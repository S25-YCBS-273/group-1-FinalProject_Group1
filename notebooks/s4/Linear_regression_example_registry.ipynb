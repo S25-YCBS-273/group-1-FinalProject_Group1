{
 "cells": [
  {
   "cell_type": "code",
   "execution_count": 1,
   "metadata": {
    "id": "xwFyEsosINqT"
   },
   "outputs": [],
   "source": [
    "import numpy as np\n",
    "import pandas as pd"
   ]
  },
  {
   "cell_type": "code",
   "execution_count": 2,
   "metadata": {},
   "outputs": [],
   "source": [
    "import warnings\n",
    "warnings.filterwarnings(\"ignore\")"
   ]
  },
  {
   "cell_type": "code",
   "execution_count": 3,
   "metadata": {},
   "outputs": [],
   "source": [
    "from functools import partial"
   ]
  },
  {
   "cell_type": "code",
   "execution_count": 4,
   "metadata": {},
   "outputs": [],
   "source": [
    "from dotenv import load_dotenv\n",
    "\n",
    "from pathlib import Path\n",
    "\n",
    "env_path = Path(\"../../.env-live\")\n",
    "# env_path = Path(\"../../.env-live-g1\")\n",
    "# env_path = Path(\"../../.env-live-g2\")\n",
    "# env_path = Path(\"../../.env-live-g3\")\n",
    "# env_path = Path(\"../../.env-live-g4\")\n",
    "# env_path = Path(\"../../.env-live-g5\")\n",
    "# env_path = Path(\"../../.env-live-g6\")\n",
    "\n",
    "\n",
    "if env_path.exists():\n",
    "    load_dotenv(dotenv_path=env_path)"
   ]
  },
  {
   "cell_type": "code",
   "execution_count": 1,
   "metadata": {},
   "outputs": [
    {
     "ename": "KeyError",
     "evalue": "'JRJ_MODEL_REGISTRY_S3_BUCKET_NAME'",
     "output_type": "error",
     "traceback": [
      "\u001b[31m---------------------------------------------------------------------------\u001b[39m",
      "\u001b[31mKeyError\u001b[39m                                  Traceback (most recent call last)",
      "\u001b[36mCell\u001b[39m\u001b[36m \u001b[39m\u001b[32mIn[1]\u001b[39m\u001b[32m, line 2\u001b[39m\n\u001b[32m      1\u001b[39m \u001b[38;5;28;01mimport\u001b[39;00m\u001b[38;5;250m \u001b[39m\u001b[34;01mos\u001b[39;00m\n\u001b[32m----> \u001b[39m\u001b[32m2\u001b[39m \u001b[43mos\u001b[49m\u001b[43m.\u001b[49m\u001b[43menviron\u001b[49m\u001b[43m[\u001b[49m\u001b[33;43m'\u001b[39;49m\u001b[33;43mJRJ_MODEL_REGISTRY_S3_BUCKET_NAME\u001b[39;49m\u001b[33;43m'\u001b[39;49m\u001b[43m]\u001b[49m\n",
      "\u001b[36mFile \u001b[39m\u001b[32m<frozen os>:716\u001b[39m, in \u001b[36m__getitem__\u001b[39m\u001b[34m(self, key)\u001b[39m\n",
      "\u001b[31mKeyError\u001b[39m: 'JRJ_MODEL_REGISTRY_S3_BUCKET_NAME'"
     ]
    }
   ],
   "source": [
    "import os\n",
    "os.environ['JRJ_MODEL_REGISTRY_S3_BUCKET_NAME']"
   ]
  },
  {
   "cell_type": "code",
   "execution_count": 8,
   "metadata": {},
   "outputs": [],
   "source": [
    "# from jrjModelRegistry import handleDashboard, jrjRouterModelRegistry\n",
    "from jrjModelRegistry.jrjModelRegistry import registerAJrjModel"
   ]
  },
  {
   "cell_type": "code",
   "execution_count": 9,
   "metadata": {
    "id": "pKewSQysItJ-"
   },
   "outputs": [],
   "source": [
    "# https://www.statsmodels.org/stable/index.html\n",
    "import statsmodels.api as sm"
   ]
  },
  {
   "cell_type": "code",
   "execution_count": 8,
   "metadata": {
    "id": "Lz-DyAtNWsJR"
   },
   "outputs": [],
   "source": [
    "# Download Dataset from https://www.dropbox.com/scl/fo/v71bqw2zowgla028cwdh0/AEfemP4C8qQ2X5tTNXMCqUQ/Session%203?dl=0&preview=educationWage.xlsx&rlkey=rlkgo6o58ex2kjbiv4b7cr9nj&subfolder_nav_tracking=1\n",
    "# and add it to colab"
   ]
  },
  {
   "cell_type": "code",
   "execution_count": 10,
   "metadata": {
    "id": "0zM8FGMJXJ70"
   },
   "outputs": [],
   "source": [
    "educationWageDf = pd.read_excel(\"./educationWage.xlsx\")"
   ]
  },
  {
   "cell_type": "code",
   "execution_count": 11,
   "metadata": {
    "id": "wsIgDGYcXT_z"
   },
   "outputs": [
    {
     "data": {
      "text/html": [
       "<div>\n",
       "<style scoped>\n",
       "    .dataframe tbody tr th:only-of-type {\n",
       "        vertical-align: middle;\n",
       "    }\n",
       "\n",
       "    .dataframe tbody tr th {\n",
       "        vertical-align: top;\n",
       "    }\n",
       "\n",
       "    .dataframe thead th {\n",
       "        text-align: right;\n",
       "    }\n",
       "</style>\n",
       "<table border=\"1\" class=\"dataframe\">\n",
       "  <thead>\n",
       "    <tr style=\"text-align: right;\">\n",
       "      <th></th>\n",
       "      <th>Education</th>\n",
       "      <th>Wage</th>\n",
       "    </tr>\n",
       "  </thead>\n",
       "  <tbody>\n",
       "    <tr>\n",
       "      <th>0</th>\n",
       "      <td>20</td>\n",
       "      <td>160</td>\n",
       "    </tr>\n",
       "    <tr>\n",
       "      <th>1</th>\n",
       "      <td>18</td>\n",
       "      <td>120</td>\n",
       "    </tr>\n",
       "    <tr>\n",
       "      <th>2</th>\n",
       "      <td>12</td>\n",
       "      <td>70</td>\n",
       "    </tr>\n",
       "    <tr>\n",
       "      <th>3</th>\n",
       "      <td>16</td>\n",
       "      <td>100</td>\n",
       "    </tr>\n",
       "    <tr>\n",
       "      <th>4</th>\n",
       "      <td>10</td>\n",
       "      <td>65</td>\n",
       "    </tr>\n",
       "    <tr>\n",
       "      <th>5</th>\n",
       "      <td>23</td>\n",
       "      <td>160</td>\n",
       "    </tr>\n",
       "    <tr>\n",
       "      <th>6</th>\n",
       "      <td>2</td>\n",
       "      <td>40</td>\n",
       "    </tr>\n",
       "    <tr>\n",
       "      <th>7</th>\n",
       "      <td>5</td>\n",
       "      <td>55</td>\n",
       "    </tr>\n",
       "  </tbody>\n",
       "</table>\n",
       "</div>"
      ],
      "text/plain": [
       "   Education  Wage\n",
       "0         20   160\n",
       "1         18   120\n",
       "2         12    70\n",
       "3         16   100\n",
       "4         10    65\n",
       "5         23   160\n",
       "6          2    40\n",
       "7          5    55"
      ]
     },
     "execution_count": 11,
     "metadata": {},
     "output_type": "execute_result"
    }
   ],
   "source": [
    "educationWageDf"
   ]
  },
  {
   "cell_type": "code",
   "execution_count": 12,
   "metadata": {
    "id": "mE_jpf50ZSQ3"
   },
   "outputs": [
    {
     "data": {
      "text/plain": [
       "pandas.core.frame.DataFrame"
      ]
     },
     "execution_count": 12,
     "metadata": {},
     "output_type": "execute_result"
    }
   ],
   "source": [
    "type(educationWageDf)"
   ]
  },
  {
   "cell_type": "code",
   "execution_count": 13,
   "metadata": {
    "id": "sPAT8difZamr"
   },
   "outputs": [
    {
     "data": {
      "text/plain": [
       "(0    20\n",
       " 1    18\n",
       " 2    12\n",
       " 3    16\n",
       " 4    10\n",
       " 5    23\n",
       " 6     2\n",
       " 7     5\n",
       " Name: Education, dtype: int64,\n",
       " pandas.core.series.Series)"
      ]
     },
     "execution_count": 13,
     "metadata": {},
     "output_type": "execute_result"
    }
   ],
   "source": [
    "educationWageDf[\"Education\"], type(educationWageDf[\"Education\"])"
   ]
  },
  {
   "cell_type": "code",
   "execution_count": 14,
   "metadata": {
    "id": "L0294jIPa23E"
   },
   "outputs": [
    {
     "data": {
      "text/plain": [
       "<Axes: xlabel='Education', ylabel='Wage'>"
      ]
     },
     "execution_count": 14,
     "metadata": {},
     "output_type": "execute_result"
    },
    {
     "data": {
      "image/png": "[encoded data removed]",
      "text/plain": [
       "<Figure size 640x480 with 1 Axes>"
      ]
     },
     "metadata": {},
     "output_type": "display_data"
    }
   ],
   "source": [
    "educationWageDf.plot.scatter(\n",
    "    x = 'Education',\n",
    "    y = 'Wage',\n",
    "    xlim = (0, 25),\n",
    "    ylim = (0, 180),\n",
    "    grid = True\n",
    ")\n"
   ]
  },
  {
   "cell_type": "markdown",
   "metadata": {
    "id": "70sdSooaXIP6"
   },
   "source": [
    "\n",
    "\n",
    "\n",
    "\n",
    "\n",
    "\n",
    "\n",
    "\n",
    "\n"
   ]
  },
  {
   "cell_type": "code",
   "execution_count": 15,
   "metadata": {
    "id": "izbdCJO6bGgr"
   },
   "outputs": [
    {
     "data": {
      "text/plain": [
       "(0    20\n",
       " 1    18\n",
       " 2    12\n",
       " 3    16\n",
       " 4    10\n",
       " 5    23\n",
       " 6     2\n",
       " 7     5\n",
       " Name: Education, dtype: int64,\n",
       " pandas.core.series.Series)"
      ]
     },
     "execution_count": 15,
     "metadata": {},
     "output_type": "execute_result"
    }
   ],
   "source": [
    "educationWageDf[\"Education\"], type(educationWageDf[\"Education\"])"
   ]
  },
  {
   "cell_type": "code",
   "execution_count": 16,
   "metadata": {
    "id": "qZTj0erZbNa4"
   },
   "outputs": [
    {
     "data": {
      "text/plain": [
       "(   const  Education\n",
       " 0    1.0         20\n",
       " 1    1.0         18\n",
       " 2    1.0         12\n",
       " 3    1.0         16\n",
       " 4    1.0         10\n",
       " 5    1.0         23\n",
       " 6    1.0          2\n",
       " 7    1.0          5,\n",
       " pandas.core.frame.DataFrame)"
      ]
     },
     "execution_count": 16,
     "metadata": {},
     "output_type": "execute_result"
    }
   ],
   "source": [
    "sm.add_constant(educationWageDf[\"Education\"]), type(sm.add_constant(educationWageDf[\"Education\"]))"
   ]
  },
  {
   "cell_type": "code",
   "execution_count": 17,
   "metadata": {},
   "outputs": [
    {
     "data": {
      "text/html": [
       "<div>\n",
       "<style scoped>\n",
       "    .dataframe tbody tr th:only-of-type {\n",
       "        vertical-align: middle;\n",
       "    }\n",
       "\n",
       "    .dataframe tbody tr th {\n",
       "        vertical-align: top;\n",
       "    }\n",
       "\n",
       "    .dataframe thead th {\n",
       "        text-align: right;\n",
       "    }\n",
       "</style>\n",
       "<table border=\"1\" class=\"dataframe\">\n",
       "  <thead>\n",
       "    <tr style=\"text-align: right;\">\n",
       "      <th></th>\n",
       "      <th>const</th>\n",
       "      <th>Education</th>\n",
       "    </tr>\n",
       "  </thead>\n",
       "  <tbody>\n",
       "    <tr>\n",
       "      <th>0</th>\n",
       "      <td>1.0</td>\n",
       "      <td>20</td>\n",
       "    </tr>\n",
       "    <tr>\n",
       "      <th>1</th>\n",
       "      <td>1.0</td>\n",
       "      <td>18</td>\n",
       "    </tr>\n",
       "    <tr>\n",
       "      <th>2</th>\n",
       "      <td>1.0</td>\n",
       "      <td>12</td>\n",
       "    </tr>\n",
       "    <tr>\n",
       "      <th>3</th>\n",
       "      <td>1.0</td>\n",
       "      <td>16</td>\n",
       "    </tr>\n",
       "    <tr>\n",
       "      <th>4</th>\n",
       "      <td>1.0</td>\n",
       "      <td>10</td>\n",
       "    </tr>\n",
       "    <tr>\n",
       "      <th>5</th>\n",
       "      <td>1.0</td>\n",
       "      <td>23</td>\n",
       "    </tr>\n",
       "    <tr>\n",
       "      <th>6</th>\n",
       "      <td>1.0</td>\n",
       "      <td>2</td>\n",
       "    </tr>\n",
       "    <tr>\n",
       "      <th>7</th>\n",
       "      <td>1.0</td>\n",
       "      <td>5</td>\n",
       "    </tr>\n",
       "  </tbody>\n",
       "</table>\n",
       "</div>"
      ],
      "text/plain": [
       "   const  Education\n",
       "0    1.0         20\n",
       "1    1.0         18\n",
       "2    1.0         12\n",
       "3    1.0         16\n",
       "4    1.0         10\n",
       "5    1.0         23\n",
       "6    1.0          2\n",
       "7    1.0          5"
      ]
     },
     "execution_count": 17,
     "metadata": {},
     "output_type": "execute_result"
    }
   ],
   "source": [
    "sm.add_constant(educationWageDf[\"Education\"])"
   ]
  },
  {
   "cell_type": "code",
   "execution_count": 19,
   "metadata": {
    "id": "3CZ6j-I1XH59"
   },
   "outputs": [],
   "source": [
    "educationWageLiniarRgressionModel = sm.OLS(\n",
    "  educationWageDf[\"Wage\"],\n",
    "  sm.add_constant(educationWageDf[\"Education\"])\n",
    ")\n"
   ]
  },
  {
   "cell_type": "code",
   "execution_count": 20,
   "metadata": {
    "id": "OfbVQb61inFN"
   },
   "outputs": [],
   "source": [
    "educationWageLiniarRgressionModelFit = educationWageLiniarRgressionModel.fit()"
   ]
  },
  {
   "cell_type": "code",
   "execution_count": 22,
   "metadata": {
    "id": "QjoNi0wP_MiT"
   },
   "outputs": [
    {
     "name": "stdout",
     "output_type": "stream",
     "text": [
      "                            OLS Regression Results                            \n",
      "==============================================================================\n",
      "Dep. Variable:                   Wage   R-squared:                       0.906\n",
      "Model:                            OLS   Adj. R-squared:                  0.890\n",
      "Method:                 Least Squares   F-statistic:                     57.64\n",
      "Date:                Wed, 04 Jun 2025   Prob (F-statistic):           0.000272\n",
      "Time:                        11:40:11   Log-Likelihood:                -32.114\n",
      "No. Observations:                   8   AIC:                             68.23\n",
      "Df Residuals:                       6   BIC:                             68.39\n",
      "Df Model:                           1                                         \n",
      "Covariance Type:            nonrobust                                         \n",
      "==============================================================================\n",
      "                 coef    std err          t      P>|t|      [0.025      0.975]\n",
      "------------------------------------------------------------------------------\n",
      "const         16.1358     11.887      1.357      0.223     -12.950      45.221\n",
      "Education      6.0464      0.796      7.592      0.000       4.098       7.995\n",
      "==============================================================================\n",
      "Omnibus:                        0.619   Durbin-Watson:                   0.926\n",
      "Prob(Omnibus):                  0.734   Jarque-Bera (JB):                0.522\n",
      "Skew:                           0.213   Prob(JB):                        0.770\n",
      "Kurtosis:                       1.823   Cond. No.                         32.5\n",
      "==============================================================================\n",
      "\n",
      "Notes:\n",
      "[1] Standard Errors assume that the covariance matrix of the errors is correctly specified.\n"
     ]
    }
   ],
   "source": [
    "print(educationWageLiniarRgressionModelFit.summary())"
   ]
  },
  {
   "cell_type": "code",
   "execution_count": 23,
   "metadata": {
    "id": "TYSiZnRL_tIx"
   },
   "outputs": [
    {
     "data": {
      "text/plain": [
       "const        16.135762\n",
       "Education     6.046358\n",
       "dtype: float64"
      ]
     },
     "execution_count": 23,
     "metadata": {},
     "output_type": "execute_result"
    }
   ],
   "source": [
    "educationWageLiniarRgressionModelFit.params"
   ]
  },
  {
   "cell_type": "code",
   "execution_count": 21,
   "metadata": {
    "id": "gCeVAjLWd1zt"
   },
   "outputs": [],
   "source": [
    "# wage = b0 + b1 * Education"
   ]
  },
  {
   "cell_type": "code",
   "execution_count": 25,
   "metadata": {},
   "outputs": [
    {
     "data": {
      "text/html": [
       "<div>\n",
       "<style scoped>\n",
       "    .dataframe tbody tr th:only-of-type {\n",
       "        vertical-align: middle;\n",
       "    }\n",
       "\n",
       "    .dataframe tbody tr th {\n",
       "        vertical-align: top;\n",
       "    }\n",
       "\n",
       "    .dataframe thead th {\n",
       "        text-align: right;\n",
       "    }\n",
       "</style>\n",
       "<table border=\"1\" class=\"dataframe\">\n",
       "  <thead>\n",
       "    <tr style=\"text-align: right;\">\n",
       "      <th></th>\n",
       "      <th>const</th>\n",
       "      <th>Education</th>\n",
       "    </tr>\n",
       "  </thead>\n",
       "  <tbody>\n",
       "    <tr>\n",
       "      <th>0</th>\n",
       "      <td>1.0</td>\n",
       "      <td>20</td>\n",
       "    </tr>\n",
       "    <tr>\n",
       "      <th>1</th>\n",
       "      <td>1.0</td>\n",
       "      <td>18</td>\n",
       "    </tr>\n",
       "    <tr>\n",
       "      <th>2</th>\n",
       "      <td>1.0</td>\n",
       "      <td>12</td>\n",
       "    </tr>\n",
       "    <tr>\n",
       "      <th>3</th>\n",
       "      <td>1.0</td>\n",
       "      <td>16</td>\n",
       "    </tr>\n",
       "    <tr>\n",
       "      <th>4</th>\n",
       "      <td>1.0</td>\n",
       "      <td>10</td>\n",
       "    </tr>\n",
       "    <tr>\n",
       "      <th>5</th>\n",
       "      <td>1.0</td>\n",
       "      <td>23</td>\n",
       "    </tr>\n",
       "    <tr>\n",
       "      <th>6</th>\n",
       "      <td>1.0</td>\n",
       "      <td>2</td>\n",
       "    </tr>\n",
       "    <tr>\n",
       "      <th>7</th>\n",
       "      <td>1.0</td>\n",
       "      <td>5</td>\n",
       "    </tr>\n",
       "  </tbody>\n",
       "</table>\n",
       "</div>"
      ],
      "text/plain": [
       "   const  Education\n",
       "0    1.0         20\n",
       "1    1.0         18\n",
       "2    1.0         12\n",
       "3    1.0         16\n",
       "4    1.0         10\n",
       "5    1.0         23\n",
       "6    1.0          2\n",
       "7    1.0          5"
      ]
     },
     "execution_count": 25,
     "metadata": {},
     "output_type": "execute_result"
    }
   ],
   "source": [
    "sm.add_constant(educationWageDf[\"Education\"])"
   ]
  },
  {
   "cell_type": "code",
   "execution_count": 26,
   "metadata": {
    "id": "rgycwEPzibXT"
   },
   "outputs": [
    {
     "data": {
      "text/plain": [
       "0    137.062914\n",
       "1    124.970199\n",
       "2     88.692053\n",
       "3    112.877483\n",
       "4     76.599338\n",
       "5    155.201987\n",
       "6     28.228477\n",
       "7     46.367550\n",
       "dtype: float64"
      ]
     },
     "execution_count": 26,
     "metadata": {},
     "output_type": "execute_result"
    }
   ],
   "source": [
    "predictedWage = educationWageLiniarRgressionModelFit.predict(sm.add_constant(educationWageDf[\"Education\"]))\n",
    "predictedWage"
   ]
  },
  {
   "cell_type": "code",
   "execution_count": 27,
   "metadata": {},
   "outputs": [],
   "source": [
    "educationWageLiniarRgressionModelSampleData = {\n",
    "    \"Education\": [20, 25]\n",
    "}"
   ]
  },
  {
   "cell_type": "code",
   "execution_count": 29,
   "metadata": {},
   "outputs": [
    {
     "data": {
      "text/html": [
       "<div>\n",
       "<style scoped>\n",
       "    .dataframe tbody tr th:only-of-type {\n",
       "        vertical-align: middle;\n",
       "    }\n",
       "\n",
       "    .dataframe tbody tr th {\n",
       "        vertical-align: top;\n",
       "    }\n",
       "\n",
       "    .dataframe thead th {\n",
       "        text-align: right;\n",
       "    }\n",
       "</style>\n",
       "<table border=\"1\" class=\"dataframe\">\n",
       "  <thead>\n",
       "    <tr style=\"text-align: right;\">\n",
       "      <th></th>\n",
       "      <th>Education</th>\n",
       "    </tr>\n",
       "  </thead>\n",
       "  <tbody>\n",
       "    <tr>\n",
       "      <th>0</th>\n",
       "      <td>20</td>\n",
       "    </tr>\n",
       "    <tr>\n",
       "      <th>1</th>\n",
       "      <td>25</td>\n",
       "    </tr>\n",
       "  </tbody>\n",
       "</table>\n",
       "</div>"
      ],
      "text/plain": [
       "   Education\n",
       "0         20\n",
       "1         25"
      ]
     },
     "execution_count": 29,
     "metadata": {},
     "output_type": "execute_result"
    }
   ],
   "source": [
    "dfTransformer = pd.DataFrame(educationWageLiniarRgressionModelSampleData)\n",
    "dfTransformer"
   ]
  },
  {
   "cell_type": "code",
   "execution_count": 30,
   "metadata": {},
   "outputs": [
    {
     "data": {
      "text/html": [
       "<div>\n",
       "<style scoped>\n",
       "    .dataframe tbody tr th:only-of-type {\n",
       "        vertical-align: middle;\n",
       "    }\n",
       "\n",
       "    .dataframe tbody tr th {\n",
       "        vertical-align: top;\n",
       "    }\n",
       "\n",
       "    .dataframe thead th {\n",
       "        text-align: right;\n",
       "    }\n",
       "</style>\n",
       "<table border=\"1\" class=\"dataframe\">\n",
       "  <thead>\n",
       "    <tr style=\"text-align: right;\">\n",
       "      <th></th>\n",
       "      <th>const</th>\n",
       "      <th>Education</th>\n",
       "    </tr>\n",
       "  </thead>\n",
       "  <tbody>\n",
       "    <tr>\n",
       "      <th>0</th>\n",
       "      <td>1.0</td>\n",
       "      <td>20</td>\n",
       "    </tr>\n",
       "    <tr>\n",
       "      <th>1</th>\n",
       "      <td>1.0</td>\n",
       "      <td>25</td>\n",
       "    </tr>\n",
       "  </tbody>\n",
       "</table>\n",
       "</div>"
      ],
      "text/plain": [
       "   const  Education\n",
       "0    1.0         20\n",
       "1    1.0         25"
      ]
     },
     "execution_count": 30,
     "metadata": {},
     "output_type": "execute_result"
    }
   ],
   "source": [
    "dfTransformer = sm.add_constant(dfTransformer[['Education']])\n",
    "dfTransformer"
   ]
  },
  {
   "cell_type": "code",
   "execution_count": 32,
   "metadata": {},
   "outputs": [],
   "source": [
    "def educationWageLiniarRgressionModelTransformer(dataForTransfer = None):\n",
    "    import pandas as pd\n",
    "    import statsmodels.api as sm\n",
    "    dfTransformer = pd.DataFrame(dataForTransfer)\n",
    "    dfTransformer = sm.add_constant(dfTransformer[['Education']])\n",
    "    return dfTransformer"
   ]
  },
  {
   "cell_type": "code",
   "execution_count": 33,
   "metadata": {},
   "outputs": [
    {
     "data": {
      "text/html": [
       "<div>\n",
       "<style scoped>\n",
       "    .dataframe tbody tr th:only-of-type {\n",
       "        vertical-align: middle;\n",
       "    }\n",
       "\n",
       "    .dataframe tbody tr th {\n",
       "        vertical-align: top;\n",
       "    }\n",
       "\n",
       "    .dataframe thead th {\n",
       "        text-align: right;\n",
       "    }\n",
       "</style>\n",
       "<table border=\"1\" class=\"dataframe\">\n",
       "  <thead>\n",
       "    <tr style=\"text-align: right;\">\n",
       "      <th></th>\n",
       "      <th>const</th>\n",
       "      <th>Education</th>\n",
       "    </tr>\n",
       "  </thead>\n",
       "  <tbody>\n",
       "    <tr>\n",
       "      <th>0</th>\n",
       "      <td>1.0</td>\n",
       "      <td>20</td>\n",
       "    </tr>\n",
       "    <tr>\n",
       "      <th>1</th>\n",
       "      <td>1.0</td>\n",
       "      <td>25</td>\n",
       "    </tr>\n",
       "  </tbody>\n",
       "</table>\n",
       "</div>"
      ],
      "text/plain": [
       "   const  Education\n",
       "0    1.0         20\n",
       "1    1.0         25"
      ]
     },
     "execution_count": 33,
     "metadata": {},
     "output_type": "execute_result"
    }
   ],
   "source": [
    "educationWageLiniarRgressionModelSampleTransformed = educationWageLiniarRgressionModelTransformer(educationWageLiniarRgressionModelSampleData)\n",
    "educationWageLiniarRgressionModelSampleTransformed"
   ]
  },
  {
   "cell_type": "code",
   "execution_count": 34,
   "metadata": {},
   "outputs": [
    {
     "data": {
      "text/plain": [
       "0    137.062914\n",
       "1    167.294702\n",
       "dtype: float64"
      ]
     },
     "execution_count": 34,
     "metadata": {},
     "output_type": "execute_result"
    }
   ],
   "source": [
    "educationWageLiniarRgressionModelFit.predict(educationWageLiniarRgressionModelSampleTransformed)"
   ]
  },
  {
   "cell_type": "code",
   "execution_count": 35,
   "metadata": {},
   "outputs": [],
   "source": [
    "def educationWageLiniarRgressionModelMainPredictor(self, transformedData):\n",
    "    return self.predict(transformedData)\n",
    "educationWageLiniarRgressionModelFit.mainPredictor = partial(educationWageLiniarRgressionModelMainPredictor, educationWageLiniarRgressionModelFit)\n",
    "educationWageLiniarRgressionModelFit.transformer = educationWageLiniarRgressionModelTransformer"
   ]
  },
  {
   "cell_type": "code",
   "execution_count": 36,
   "metadata": {},
   "outputs": [
    {
     "data": {
      "text/html": [
       "<div>\n",
       "<style scoped>\n",
       "    .dataframe tbody tr th:only-of-type {\n",
       "        vertical-align: middle;\n",
       "    }\n",
       "\n",
       "    .dataframe tbody tr th {\n",
       "        vertical-align: top;\n",
       "    }\n",
       "\n",
       "    .dataframe thead th {\n",
       "        text-align: right;\n",
       "    }\n",
       "</style>\n",
       "<table border=\"1\" class=\"dataframe\">\n",
       "  <thead>\n",
       "    <tr style=\"text-align: right;\">\n",
       "      <th></th>\n",
       "      <th>const</th>\n",
       "      <th>Education</th>\n",
       "    </tr>\n",
       "  </thead>\n",
       "  <tbody>\n",
       "    <tr>\n",
       "      <th>0</th>\n",
       "      <td>1.0</td>\n",
       "      <td>20</td>\n",
       "    </tr>\n",
       "    <tr>\n",
       "      <th>1</th>\n",
       "      <td>1.0</td>\n",
       "      <td>25</td>\n",
       "    </tr>\n",
       "  </tbody>\n",
       "</table>\n",
       "</div>"
      ],
      "text/plain": [
       "   const  Education\n",
       "0    1.0         20\n",
       "1    1.0         25"
      ]
     },
     "execution_count": 36,
     "metadata": {},
     "output_type": "execute_result"
    }
   ],
   "source": [
    "test1 = educationWageLiniarRgressionModelFit.transformer(educationWageLiniarRgressionModelSampleData)\n",
    "test1"
   ]
  },
  {
   "cell_type": "code",
   "execution_count": 37,
   "metadata": {},
   "outputs": [
    {
     "data": {
      "text/plain": [
       "0    137.062914\n",
       "1    167.294702\n",
       "dtype: float64"
      ]
     },
     "execution_count": 37,
     "metadata": {},
     "output_type": "execute_result"
    }
   ],
   "source": [
    "educationWageLiniarRgressionModelFit.mainPredictor(test1)"
   ]
  },
  {
   "cell_type": "code",
   "execution_count": 38,
   "metadata": {},
   "outputs": [
    {
     "data": {
      "text/plain": [
       "{'modelName': 'jason_educationWageLiniarRgression',\n",
       " 'version': '1.0.1',\n",
       " 'params': {'const': 16.135761589403973, 'Education': 6.046357615894037},\n",
       " 'score': 0.9057136182627168,\n",
       " 'modelLibraray': 'sm.OLS',\n",
       " 'libraryMetadata': {'pvalues': {'const': 0.22346398484962393,\n",
       "   'Education': 0.00027175932236506796},\n",
       "  'r_squared': 0.9057136182627168,\n",
       "  'adj_r_squared': 0.8899992213065029},\n",
       " 'sampleData': {'dataForTransfer': {'Education': [20, 25]}}}"
      ]
     },
     "execution_count": 38,
     "metadata": {},
     "output_type": "execute_result"
    }
   ],
   "source": [
    "educationWageLiniarRgressionModelMetadata = {\n",
    "    \"modelName\":f\"jason_educationWageLiniarRgression\",\n",
    "    \"version\":\"1.0.1\",\n",
    "    \"params\": educationWageLiniarRgressionModelFit.params.to_dict(),\n",
    "    \"score\": float(educationWageLiniarRgressionModelFit.rsquared),\n",
    "    \"modelLibraray\": 'sm.OLS',\n",
    "    \"libraryMetadata\": {\n",
    "        \"pvalues\": educationWageLiniarRgressionModelFit.pvalues.to_dict(),\n",
    "        \"r_squared\": float(educationWageLiniarRgressionModelFit.rsquared),\n",
    "        \"adj_r_squared\": float(educationWageLiniarRgressionModelFit.rsquared_adj)\n",
    "    },\n",
    "\n",
    "    \"sampleData\": {\n",
    "        \"dataForTransfer\": educationWageLiniarRgressionModelSampleData\n",
    "    }\n",
    "}\n",
    "educationWageLiniarRgressionModelMetadata"
   ]
  },
  {
   "cell_type": "code",
   "execution_count": 39,
   "metadata": {},
   "outputs": [
    {
     "name": "stdout",
     "output_type": "stream",
     "text": [
      "✅ Uploaded encrypted ZIP to s3://273-g1/jason_educationWageLiniarRgression__1.0.1.pkl.zip\n"
     ]
    },
    {
     "data": {
      "text/plain": [
       "{'_id': '68406e12f1212d6e4a75b52e',\n",
       " 'modelName': 'jason_educationWageLiniarRgression',\n",
       " 'version': '1.0.1',\n",
       " 'params': {'const': 16.135761589403973, 'Education': 6.046357615894037},\n",
       " 'score': 0.9057136182627168,\n",
       " 'modelLibraray': 'sm.OLS',\n",
       " 'libraryMetadata': {'pvalues': {'const': 0.22346398484962393,\n",
       "   'Education': 0.00027175932236506796},\n",
       "  'r_squared': 0.9057136182627168,\n",
       "  'adj_r_squared': 0.8899992213065029},\n",
       " 'sampleData': {'dataForTransfer': {'Education': [20, 25]}},\n",
       " 'modelType': 'model',\n",
       " 'keepLastOnly': False,\n",
       " 'modelSizeBytes': 5717,\n",
       " 'zippedModelSizeBytes': 3067,\n",
       " 's3Url': '273-g1/jason_educationWageLiniarRgression__1.0.1.pkl.zip',\n",
       " 'createdAt': '2025-06-04T16:02:26.775Z',\n",
       " 'updatedAt': '2025-06-04T16:02:26.775Z'}"
      ]
     },
     "execution_count": 39,
     "metadata": {},
     "output_type": "execute_result"
    }
   ],
   "source": [
    "registerAJrjModel(educationWageLiniarRgressionModelFit, educationWageLiniarRgressionModelMetadata)"
   ]
  },
  {
   "cell_type": "code",
   "execution_count": null,
   "metadata": {},
   "outputs": [],
   "source": []
  },
  {
   "cell_type": "code",
   "execution_count": 32,
   "metadata": {
    "id": "BNQ2w_HAeGGq"
   },
   "outputs": [
    {
     "data": {
      "text/html": [
       "<div>\n",
       "<style scoped>\n",
       "    .dataframe tbody tr th:only-of-type {\n",
       "        vertical-align: middle;\n",
       "    }\n",
       "\n",
       "    .dataframe tbody tr th {\n",
       "        vertical-align: top;\n",
       "    }\n",
       "\n",
       "    .dataframe thead th {\n",
       "        text-align: right;\n",
       "    }\n",
       "</style>\n",
       "<table border=\"1\" class=\"dataframe\">\n",
       "  <thead>\n",
       "    <tr style=\"text-align: right;\">\n",
       "      <th></th>\n",
       "      <th>Education</th>\n",
       "      <th>Wage</th>\n",
       "      <th>predictedWage</th>\n",
       "    </tr>\n",
       "  </thead>\n",
       "  <tbody>\n",
       "    <tr>\n",
       "      <th>0</th>\n",
       "      <td>20</td>\n",
       "      <td>160</td>\n",
       "      <td>137.062914</td>\n",
       "    </tr>\n",
       "    <tr>\n",
       "      <th>1</th>\n",
       "      <td>18</td>\n",
       "      <td>120</td>\n",
       "      <td>124.970199</td>\n",
       "    </tr>\n",
       "    <tr>\n",
       "      <th>2</th>\n",
       "      <td>12</td>\n",
       "      <td>70</td>\n",
       "      <td>88.692053</td>\n",
       "    </tr>\n",
       "    <tr>\n",
       "      <th>3</th>\n",
       "      <td>16</td>\n",
       "      <td>100</td>\n",
       "      <td>112.877483</td>\n",
       "    </tr>\n",
       "    <tr>\n",
       "      <th>4</th>\n",
       "      <td>10</td>\n",
       "      <td>65</td>\n",
       "      <td>76.599338</td>\n",
       "    </tr>\n",
       "    <tr>\n",
       "      <th>5</th>\n",
       "      <td>23</td>\n",
       "      <td>160</td>\n",
       "      <td>155.201987</td>\n",
       "    </tr>\n",
       "    <tr>\n",
       "      <th>6</th>\n",
       "      <td>2</td>\n",
       "      <td>40</td>\n",
       "      <td>28.228477</td>\n",
       "    </tr>\n",
       "    <tr>\n",
       "      <th>7</th>\n",
       "      <td>5</td>\n",
       "      <td>55</td>\n",
       "      <td>46.367550</td>\n",
       "    </tr>\n",
       "  </tbody>\n",
       "</table>\n",
       "</div>"
      ],
      "text/plain": [
       "   Education  Wage  predictedWage\n",
       "0         20   160     137.062914\n",
       "1         18   120     124.970199\n",
       "2         12    70      88.692053\n",
       "3         16   100     112.877483\n",
       "4         10    65      76.599338\n",
       "5         23   160     155.201987\n",
       "6          2    40      28.228477\n",
       "7          5    55      46.367550"
      ]
     },
     "execution_count": 32,
     "metadata": {},
     "output_type": "execute_result"
    }
   ],
   "source": [
    "educationWageDf['predictedWage'] = predictedWage\n",
    "educationWageDf"
   ]
  },
  {
   "cell_type": "code",
   "execution_count": null,
   "metadata": {},
   "outputs": [],
   "source": []
  },
  {
   "cell_type": "code",
   "execution_count": 33,
   "metadata": {
    "id": "ooBEi1bmBE1F"
   },
   "outputs": [
    {
     "data": {
      "text/plain": [
       "array([106.83112583])"
      ]
     },
     "execution_count": 33,
     "metadata": {},
     "output_type": "execute_result"
    }
   ],
   "source": [
    "testPredict = educationWageLiniarRgressionModelFit.predict([[1,15]])\n",
    "testPredict"
   ]
  },
  {
   "cell_type": "code",
   "execution_count": 34,
   "metadata": {
    "id": "hfmtTSDajJa1"
   },
   "outputs": [],
   "source": [
    "import matplotlib.pyplot as plt\n"
   ]
  },
  {
   "cell_type": "code",
   "execution_count": 35,
   "metadata": {
    "id": "FYmVGYFxjRJg"
   },
   "outputs": [
    {
     "data": {
      "image/png": "[encoded data removed]",
      "text/plain": [
       "<Figure size 800x800 with 1 Axes>"
      ]
     },
     "metadata": {},
     "output_type": "display_data"
    }
   ],
   "source": [
    "# Plotting\n",
    "plt.figure(\n",
    "  figsize=(8, 8)\n",
    ")\n",
    "\n",
    "plt.scatter(\n",
    "  educationWageDf[\"Education\"],\n",
    "  educationWageDf[\"Wage\"],\n",
    "  color='blue',\n",
    "  alpha=0.9,\n",
    "  label='Data Points - scatter',\n",
    ")\n",
    "\n",
    "plt.plot(\n",
    "  educationWageDf[\"Education\"],\n",
    "  educationWageDf[\"predictedWage\"],\n",
    "  color='red',\n",
    "  label='OLS Regression - predictedWage'\n",
    ")\n",
    "plt.title('Education Level vs. Wage with OLS Regression')\n",
    "plt.xlabel('Education Level(yr)')\n",
    "plt.ylabel('Wage K')\n",
    "plt.legend()\n",
    "plt.grid(True)\n",
    "\n",
    "plt.gca().set_xlim([0, 25])\n",
    "plt.gca().set_ylim([0, 180])\n",
    "\n",
    "\n",
    "plt.show()"
   ]
  },
  {
   "cell_type": "markdown",
   "metadata": {
    "id": "trx50k1tBX0s"
   },
   "source": [
    "# Another way"
   ]
  },
  {
   "cell_type": "code",
   "execution_count": 36,
   "metadata": {
    "id": "5G0wXkAFIxMd"
   },
   "outputs": [
    {
     "data": {
      "text/plain": [
       "(array([20, 18, 12, 16, 10, 23,  2,  5]),\n",
       " array([160, 120,  70, 100,  65, 160,  40,  55]))"
      ]
     },
     "execution_count": 36,
     "metadata": {},
     "output_type": "execute_result"
    }
   ],
   "source": [
    "X = np.array([20, 18, 12, 16, 10, 23, 2, 5,])\n",
    "y = np.array([160, 120, 70 , 100, 65, 160, 40, 55])\n",
    "X, y"
   ]
  },
  {
   "cell_type": "code",
   "execution_count": 37,
   "metadata": {
    "id": "YTcd15wbK9AA"
   },
   "outputs": [],
   "source": [
    "X = sm.add_constant(X)"
   ]
  },
  {
   "cell_type": "code",
   "execution_count": 38,
   "metadata": {
    "id": "Oksgjk2MKjL_"
   },
   "outputs": [
    {
     "data": {
      "text/plain": [
       "array([[ 1., 20.],\n",
       "       [ 1., 18.],\n",
       "       [ 1., 12.],\n",
       "       [ 1., 16.],\n",
       "       [ 1., 10.],\n",
       "       [ 1., 23.],\n",
       "       [ 1.,  2.],\n",
       "       [ 1.,  5.]])"
      ]
     },
     "execution_count": 38,
     "metadata": {},
     "output_type": "execute_result"
    }
   ],
   "source": [
    "X"
   ]
  },
  {
   "cell_type": "code",
   "execution_count": 39,
   "metadata": {
    "id": "foBX_PxyJJj8"
   },
   "outputs": [],
   "source": [
    "model = sm.OLS(y, X).fit()\n"
   ]
  },
  {
   "cell_type": "code",
   "execution_count": 40,
   "metadata": {
    "id": "Da-TIkZpJMBB"
   },
   "outputs": [
    {
     "name": "stdout",
     "output_type": "stream",
     "text": [
      "                            OLS Regression Results                            \n",
      "==============================================================================\n",
      "Dep. Variable:                      y   R-squared:                       0.906\n",
      "Model:                            OLS   Adj. R-squared:                  0.890\n",
      "Method:                 Least Squares   F-statistic:                     57.64\n",
      "Date:                Wed, 04 Jun 2025   Prob (F-statistic):           0.000272\n",
      "Time:                        00:53:59   Log-Likelihood:                -32.114\n",
      "No. Observations:                   8   AIC:                             68.23\n",
      "Df Residuals:                       6   BIC:                             68.39\n",
      "Df Model:                           1                                         \n",
      "Covariance Type:            nonrobust                                         \n",
      "==============================================================================\n",
      "                 coef    std err          t      P>|t|      [0.025      0.975]\n",
      "------------------------------------------------------------------------------\n",
      "const         16.1358     11.887      1.357      0.223     -12.950      45.221\n",
      "x1             6.0464      0.796      7.592      0.000       4.098       7.995\n",
      "==============================================================================\n",
      "Omnibus:                        0.619   Durbin-Watson:                   0.926\n",
      "Prob(Omnibus):                  0.734   Jarque-Bera (JB):                0.522\n",
      "Skew:                           0.213   Prob(JB):                        0.770\n",
      "Kurtosis:                       1.823   Cond. No.                         32.5\n",
      "==============================================================================\n",
      "\n",
      "Notes:\n",
      "[1] Standard Errors assume that the covariance matrix of the errors is correctly specified.\n"
     ]
    },
    {
     "name": "stderr",
     "output_type": "stream",
     "text": [
      "/Users/jason/.jjDataDir/~~asdf_SARAVA/installs/python/3.13.3/lib/python3.13/site-packages/scipy/stats/_axis_nan_policy.py:430: UserWarning: `kurtosistest` p-value may be inaccurate with fewer than 20 observations; only n=8 observations were given.\n",
      "  return hypotest_fun_in(*args, **kwds)\n"
     ]
    }
   ],
   "source": [
    "print(model.summary())"
   ]
  },
  {
   "cell_type": "code",
   "execution_count": 41,
   "metadata": {
    "id": "8Evg53IMJQQD"
   },
   "outputs": [
    {
     "name": "stdout",
     "output_type": "stream",
     "text": [
      "Coefficients: [16.13576159  6.04635762]\n"
     ]
    }
   ],
   "source": [
    "print(\"Coefficients:\", model.params)"
   ]
  },
  {
   "cell_type": "code",
   "execution_count": 42,
   "metadata": {
    "id": "Csteg6CiOiSv"
   },
   "outputs": [
    {
     "data": {
      "text/plain": [
       "array([ 46.36754967, 106.83112583])"
      ]
     },
     "execution_count": 42,
     "metadata": {},
     "output_type": "execute_result"
    }
   ],
   "source": [
    "predictions = model.predict([[1, 5], [1, 15]])\n",
    "predictions"
   ]
  },
  {
   "cell_type": "code",
   "execution_count": 43,
   "metadata": {
    "id": "xxZNODO1PC1m"
   },
   "outputs": [],
   "source": [
    "def predicWage(intercept, slope, yearsOfExperience):\n",
    "  return intercept + (slope * yearsOfExperience)"
   ]
  },
  {
   "cell_type": "code",
   "execution_count": 44,
   "metadata": {
    "id": "8lYfVWyNPdLc"
   },
   "outputs": [
    {
     "data": {
      "text/plain": [
       "np.float64(46.36754966887416)"
      ]
     },
     "execution_count": 44,
     "metadata": {},
     "output_type": "execute_result"
    }
   ],
   "source": [
    "predicWage(model.params[0], model.params[1], 5)"
   ]
  },
  {
   "cell_type": "code",
   "execution_count": 45,
   "metadata": {
    "id": "YnJzK9USPkcC"
   },
   "outputs": [
    {
     "data": {
      "text/plain": [
       "np.float64(106.83112582781452)"
      ]
     },
     "execution_count": 45,
     "metadata": {},
     "output_type": "execute_result"
    }
   ],
   "source": [
    "predicWage(model.params[0], model.params[1], 15)"
   ]
  },
  {
   "cell_type": "markdown",
   "metadata": {
    "id": "UxR96NeFLG9p"
   },
   "source": [
    "# Another way"
   ]
  },
  {
   "cell_type": "code",
   "execution_count": 46,
   "metadata": {
    "id": "y6-07nV0JoBa"
   },
   "outputs": [],
   "source": [
    "from sklearn.linear_model import LinearRegression"
   ]
  },
  {
   "cell_type": "code",
   "execution_count": 47,
   "metadata": {
    "id": "DJKKcxAFBlZi"
   },
   "outputs": [
    {
     "data": {
      "text/html": [
       "<div>\n",
       "<style scoped>\n",
       "    .dataframe tbody tr th:only-of-type {\n",
       "        vertical-align: middle;\n",
       "    }\n",
       "\n",
       "    .dataframe tbody tr th {\n",
       "        vertical-align: top;\n",
       "    }\n",
       "\n",
       "    .dataframe thead th {\n",
       "        text-align: right;\n",
       "    }\n",
       "</style>\n",
       "<table border=\"1\" class=\"dataframe\">\n",
       "  <thead>\n",
       "    <tr style=\"text-align: right;\">\n",
       "      <th></th>\n",
       "      <th>Education</th>\n",
       "      <th>Wage</th>\n",
       "      <th>predictedWage</th>\n",
       "    </tr>\n",
       "  </thead>\n",
       "  <tbody>\n",
       "    <tr>\n",
       "      <th>0</th>\n",
       "      <td>20</td>\n",
       "      <td>160</td>\n",
       "      <td>137.062914</td>\n",
       "    </tr>\n",
       "    <tr>\n",
       "      <th>1</th>\n",
       "      <td>18</td>\n",
       "      <td>120</td>\n",
       "      <td>124.970199</td>\n",
       "    </tr>\n",
       "    <tr>\n",
       "      <th>2</th>\n",
       "      <td>12</td>\n",
       "      <td>70</td>\n",
       "      <td>88.692053</td>\n",
       "    </tr>\n",
       "    <tr>\n",
       "      <th>3</th>\n",
       "      <td>16</td>\n",
       "      <td>100</td>\n",
       "      <td>112.877483</td>\n",
       "    </tr>\n",
       "    <tr>\n",
       "      <th>4</th>\n",
       "      <td>10</td>\n",
       "      <td>65</td>\n",
       "      <td>76.599338</td>\n",
       "    </tr>\n",
       "    <tr>\n",
       "      <th>5</th>\n",
       "      <td>23</td>\n",
       "      <td>160</td>\n",
       "      <td>155.201987</td>\n",
       "    </tr>\n",
       "    <tr>\n",
       "      <th>6</th>\n",
       "      <td>2</td>\n",
       "      <td>40</td>\n",
       "      <td>28.228477</td>\n",
       "    </tr>\n",
       "    <tr>\n",
       "      <th>7</th>\n",
       "      <td>5</td>\n",
       "      <td>55</td>\n",
       "      <td>46.367550</td>\n",
       "    </tr>\n",
       "  </tbody>\n",
       "</table>\n",
       "</div>"
      ],
      "text/plain": [
       "   Education  Wage  predictedWage\n",
       "0         20   160     137.062914\n",
       "1         18   120     124.970199\n",
       "2         12    70      88.692053\n",
       "3         16   100     112.877483\n",
       "4         10    65      76.599338\n",
       "5         23   160     155.201987\n",
       "6          2    40      28.228477\n",
       "7          5    55      46.367550"
      ]
     },
     "execution_count": 47,
     "metadata": {},
     "output_type": "execute_result"
    }
   ],
   "source": [
    "educationWageDf"
   ]
  },
  {
   "cell_type": "code",
   "execution_count": 48,
   "metadata": {
    "id": "0GMyNZTyB0tz"
   },
   "outputs": [],
   "source": [
    "educationWageLiniarRgressionModel2 = LinearRegression()"
   ]
  },
  {
   "cell_type": "code",
   "execution_count": 49,
   "metadata": {
    "id": "CMrTd4NsC3Am"
   },
   "outputs": [
    {
     "data": {
      "text/plain": [
       "(0    20\n",
       " 1    18\n",
       " 2    12\n",
       " 3    16\n",
       " 4    10\n",
       " 5    23\n",
       " 6     2\n",
       " 7     5\n",
       " Name: Education, dtype: int64,\n",
       " pandas.core.series.Series)"
      ]
     },
     "execution_count": 49,
     "metadata": {},
     "output_type": "execute_result"
    }
   ],
   "source": [
    "educationWageDf[\"Education\"], type(educationWageDf[\"Education\"])"
   ]
  },
  {
   "cell_type": "code",
   "execution_count": 50,
   "metadata": {
    "id": "Flw3PPJKC0eI"
   },
   "outputs": [
    {
     "data": {
      "text/plain": [
       "(   Education\n",
       " 0         20\n",
       " 1         18\n",
       " 2         12\n",
       " 3         16\n",
       " 4         10\n",
       " 5         23\n",
       " 6          2\n",
       " 7          5,\n",
       " pandas.core.frame.DataFrame)"
      ]
     },
     "execution_count": 50,
     "metadata": {},
     "output_type": "execute_result"
    }
   ],
   "source": [
    "educationWageDf[[\"Education\"]], type(educationWageDf[[\"Education\"]])"
   ]
  },
  {
   "cell_type": "code",
   "execution_count": 51,
   "metadata": {
    "id": "ox_p7rYYB8nA"
   },
   "outputs": [],
   "source": [
    "educationWageLiniarRgressionModel2Fit = educationWageLiniarRgressionModel2.fit(\n",
    "    educationWageDf[[\"Education\"]],\n",
    "    educationWageDf[\"Wage\"]\n",
    ")"
   ]
  },
  {
   "cell_type": "code",
   "execution_count": 52,
   "metadata": {
    "id": "RxNZRBlhKpu5"
   },
   "outputs": [
    {
     "name": "stdout",
     "output_type": "stream",
     "text": [
      "Intercept: 16.13576158940394\n",
      "Coefficient: 6.046357615894042\n"
     ]
    }
   ],
   "source": [
    "# Print the intercept and coefficient\n",
    "print(\"Intercept:\", educationWageLiniarRgressionModel2Fit.intercept_)\n",
    "print(\"Coefficient:\", educationWageLiniarRgressionModel2Fit.coef_[0])"
   ]
  },
  {
   "cell_type": "code",
   "execution_count": 53,
   "metadata": {
    "id": "xtqZ6ZRaQBgK"
   },
   "outputs": [
    {
     "name": "stderr",
     "output_type": "stream",
     "text": [
      "/Users/jason/.jjDataDir/~~asdf_SARAVA/installs/python/3.13.3/lib/python3.13/site-packages/sklearn/utils/validation.py:2739: UserWarning: X does not have valid feature names, but LinearRegression was fitted with feature names\n",
      "  warnings.warn(\n"
     ]
    },
    {
     "data": {
      "text/plain": [
       "array([ 46.36754967, 106.83112583])"
      ]
     },
     "execution_count": 53,
     "metadata": {},
     "output_type": "execute_result"
    }
   ],
   "source": [
    "predictions1 = educationWageLiniarRgressionModel2Fit.predict(np.array([[5], [15]]))\n",
    "predictions1"
   ]
  },
  {
   "cell_type": "code",
   "execution_count": null,
   "metadata": {
    "id": "e2cyeBEUhzx6"
   },
   "outputs": [],
   "source": []
  },
  {
   "cell_type": "code",
   "execution_count": null,
   "metadata": {
    "id": "BVJslxRTiCxx"
   },
   "outputs": [],
   "source": []
  },
  {
   "cell_type": "code",
   "execution_count": 54,
   "metadata": {
    "id": "ssUOw-bWQTMP"
   },
   "outputs": [
    {
     "data": {
      "text/plain": [
       "np.float64(46.36754966887415)"
      ]
     },
     "execution_count": 54,
     "metadata": {},
     "output_type": "execute_result"
    }
   ],
   "source": [
    "predicWage(educationWageLiniarRgressionModel2Fit.intercept_, educationWageLiniarRgressionModel2Fit.coef_[0], 5)"
   ]
  },
  {
   "cell_type": "code",
   "execution_count": 55,
   "metadata": {
    "id": "8cM6wdOdQYGK"
   },
   "outputs": [
    {
     "data": {
      "text/plain": [
       "np.float64(106.83112582781457)"
      ]
     },
     "execution_count": 55,
     "metadata": {},
     "output_type": "execute_result"
    }
   ],
   "source": [
    "predicWage(educationWageLiniarRgressionModel2Fit.intercept_, educationWageLiniarRgressionModel2Fit.coef_[0], 15)"
   ]
  },
  {
   "cell_type": "code",
   "execution_count": 56,
   "metadata": {
    "id": "uurMTqQpDi_A"
   },
   "outputs": [
    {
     "data": {
      "text/html": [
       "<div>\n",
       "<style scoped>\n",
       "    .dataframe tbody tr th:only-of-type {\n",
       "        vertical-align: middle;\n",
       "    }\n",
       "\n",
       "    .dataframe tbody tr th {\n",
       "        vertical-align: top;\n",
       "    }\n",
       "\n",
       "    .dataframe thead th {\n",
       "        text-align: right;\n",
       "    }\n",
       "</style>\n",
       "<table border=\"1\" class=\"dataframe\">\n",
       "  <thead>\n",
       "    <tr style=\"text-align: right;\">\n",
       "      <th></th>\n",
       "      <th>Education</th>\n",
       "      <th>Wage</th>\n",
       "      <th>predictedWage</th>\n",
       "      <th>predictedWage2</th>\n",
       "    </tr>\n",
       "  </thead>\n",
       "  <tbody>\n",
       "    <tr>\n",
       "      <th>0</th>\n",
       "      <td>20</td>\n",
       "      <td>160</td>\n",
       "      <td>137.062914</td>\n",
       "      <td>137.062914</td>\n",
       "    </tr>\n",
       "    <tr>\n",
       "      <th>1</th>\n",
       "      <td>18</td>\n",
       "      <td>120</td>\n",
       "      <td>124.970199</td>\n",
       "      <td>124.970199</td>\n",
       "    </tr>\n",
       "    <tr>\n",
       "      <th>2</th>\n",
       "      <td>12</td>\n",
       "      <td>70</td>\n",
       "      <td>88.692053</td>\n",
       "      <td>88.692053</td>\n",
       "    </tr>\n",
       "    <tr>\n",
       "      <th>3</th>\n",
       "      <td>16</td>\n",
       "      <td>100</td>\n",
       "      <td>112.877483</td>\n",
       "      <td>112.877483</td>\n",
       "    </tr>\n",
       "    <tr>\n",
       "      <th>4</th>\n",
       "      <td>10</td>\n",
       "      <td>65</td>\n",
       "      <td>76.599338</td>\n",
       "      <td>76.599338</td>\n",
       "    </tr>\n",
       "    <tr>\n",
       "      <th>5</th>\n",
       "      <td>23</td>\n",
       "      <td>160</td>\n",
       "      <td>155.201987</td>\n",
       "      <td>155.201987</td>\n",
       "    </tr>\n",
       "    <tr>\n",
       "      <th>6</th>\n",
       "      <td>2</td>\n",
       "      <td>40</td>\n",
       "      <td>28.228477</td>\n",
       "      <td>28.228477</td>\n",
       "    </tr>\n",
       "    <tr>\n",
       "      <th>7</th>\n",
       "      <td>5</td>\n",
       "      <td>55</td>\n",
       "      <td>46.367550</td>\n",
       "      <td>46.367550</td>\n",
       "    </tr>\n",
       "  </tbody>\n",
       "</table>\n",
       "</div>"
      ],
      "text/plain": [
       "   Education  Wage  predictedWage  predictedWage2\n",
       "0         20   160     137.062914      137.062914\n",
       "1         18   120     124.970199      124.970199\n",
       "2         12    70      88.692053       88.692053\n",
       "3         16   100     112.877483      112.877483\n",
       "4         10    65      76.599338       76.599338\n",
       "5         23   160     155.201987      155.201987\n",
       "6          2    40      28.228477       28.228477\n",
       "7          5    55      46.367550       46.367550"
      ]
     },
     "execution_count": 56,
     "metadata": {},
     "output_type": "execute_result"
    }
   ],
   "source": [
    "predictedWage2 = educationWageLiniarRgressionModel2Fit.predict(educationWageDf[[\"Education\"]])\n",
    "educationWageDf['predictedWage2'] = predictedWage2\n",
    "educationWageDf"
   ]
  },
  {
   "cell_type": "code",
   "execution_count": 57,
   "metadata": {
    "id": "30mmVCEuD4sx"
   },
   "outputs": [
    {
     "data": {
      "image/png": "[encoded data removed]",
      "text/plain": [
       "<Figure size 800x800 with 1 Axes>"
      ]
     },
     "metadata": {},
     "output_type": "display_data"
    }
   ],
   "source": [
    "# Plotting\n",
    "plt.figure(\n",
    "  figsize=(8, 8)\n",
    ")\n",
    "\n",
    "plt.scatter(\n",
    "  educationWageDf[\"Education\"],\n",
    "  educationWageDf[\"Wage\"],\n",
    "  color='blue',\n",
    "  alpha=0.9,\n",
    "  label='Data Points - scatter',\n",
    ")\n",
    "\n",
    "plt.plot(\n",
    "  educationWageDf[\"Education\"],\n",
    "  educationWageDf[\"predictedWage\"],\n",
    "  color='red',\n",
    "  label='OLS Regression - predictedWage'\n",
    ")\n",
    "plt.plot(\n",
    "  educationWageDf[\"Education\"],\n",
    "  educationWageDf[\"predictedWage2\"],\n",
    "  color='black',\n",
    "  label='sklearn  Regression - predictedWage'\n",
    ")\n",
    "plt.title('Education Level vs. Wage with OLS Regression')\n",
    "plt.xlabel('Education Level(yr)')\n",
    "plt.ylabel('Wage K')\n",
    "plt.legend()\n",
    "plt.grid(True)\n",
    "\n",
    "plt.gca().set_xlim([0, 25])\n",
    "plt.gca().set_ylim([0, 180])\n",
    "\n",
    "\n",
    "equation = f'Wage = {educationWageLiniarRgressionModel2Fit.coef_[0]:.2f} * Education + {educationWageLiniarRgressionModel2Fit.intercept_:.2f}'\n",
    "\n",
    "\n",
    "plt.text(\n",
    "    10, 120,\n",
    "    equation,\n",
    "    horizontalalignment='center',\n",
    "    verticalalignment='center',\n",
    "    fontsize=12,\n",
    "    color=\"green\",\n",
    "    bbox=dict(facecolor='white', alpha=0.5)\n",
    ")\n",
    "\n",
    "\n",
    "\n",
    "plt.show()"
   ]
  },
  {
   "cell_type": "code",
   "execution_count": 58,
   "metadata": {},
   "outputs": [],
   "source": [
    "def educationWageLiniarRgressionModel2Transformer(dataForTransfer = None):\n",
    "    import pandas as pd\n",
    "    dfTransformer = pd.DataFrame(dataForTransfer)\n",
    "    return dfTransformer"
   ]
  },
  {
   "cell_type": "code",
   "execution_count": 59,
   "metadata": {},
   "outputs": [
    {
     "data": {
      "text/html": [
       "<div>\n",
       "<style scoped>\n",
       "    .dataframe tbody tr th:only-of-type {\n",
       "        vertical-align: middle;\n",
       "    }\n",
       "\n",
       "    .dataframe tbody tr th {\n",
       "        vertical-align: top;\n",
       "    }\n",
       "\n",
       "    .dataframe thead th {\n",
       "        text-align: right;\n",
       "    }\n",
       "</style>\n",
       "<table border=\"1\" class=\"dataframe\">\n",
       "  <thead>\n",
       "    <tr style=\"text-align: right;\">\n",
       "      <th></th>\n",
       "      <th>Education</th>\n",
       "    </tr>\n",
       "  </thead>\n",
       "  <tbody>\n",
       "    <tr>\n",
       "      <th>0</th>\n",
       "      <td>20</td>\n",
       "    </tr>\n",
       "    <tr>\n",
       "      <th>1</th>\n",
       "      <td>25</td>\n",
       "    </tr>\n",
       "  </tbody>\n",
       "</table>\n",
       "</div>"
      ],
      "text/plain": [
       "   Education\n",
       "0         20\n",
       "1         25"
      ]
     },
     "execution_count": 59,
     "metadata": {},
     "output_type": "execute_result"
    }
   ],
   "source": [
    "educationWageLiniarRgressionModel2SampleTransformed = educationWageLiniarRgressionModel2Transformer(educationWageLiniarRgressionModelSampleData)\n",
    "educationWageLiniarRgressionModel2SampleTransformed"
   ]
  },
  {
   "cell_type": "code",
   "execution_count": 60,
   "metadata": {},
   "outputs": [
    {
     "data": {
      "text/plain": [
       "array([137.06291391, 167.29470199])"
      ]
     },
     "execution_count": 60,
     "metadata": {},
     "output_type": "execute_result"
    }
   ],
   "source": [
    "educationWageLiniarRgressionModel2Fit.predict(educationWageLiniarRgressionModel2SampleTransformed)"
   ]
  },
  {
   "cell_type": "code",
   "execution_count": 61,
   "metadata": {},
   "outputs": [],
   "source": [
    "def educationWageLiniarRgressionModel2MainPredictor(self, transformedData):\n",
    "    npArr =  self.predict(transformedData)\n",
    "    # return npArr\n",
    "    result = {f\"{i}\": float(v) for i, v in enumerate(npArr)}\n",
    "    return result\n",
    "educationWageLiniarRgressionModel2Fit.mainPredictor = partial(educationWageLiniarRgressionModel2MainPredictor, educationWageLiniarRgressionModel2Fit)\n",
    "educationWageLiniarRgressionModel2Fit.transformer = educationWageLiniarRgressionModel2Transformer"
   ]
  },
  {
   "cell_type": "code",
   "execution_count": 62,
   "metadata": {},
   "outputs": [
    {
     "data": {
      "text/html": [
       "<div>\n",
       "<style scoped>\n",
       "    .dataframe tbody tr th:only-of-type {\n",
       "        vertical-align: middle;\n",
       "    }\n",
       "\n",
       "    .dataframe tbody tr th {\n",
       "        vertical-align: top;\n",
       "    }\n",
       "\n",
       "    .dataframe thead th {\n",
       "        text-align: right;\n",
       "    }\n",
       "</style>\n",
       "<table border=\"1\" class=\"dataframe\">\n",
       "  <thead>\n",
       "    <tr style=\"text-align: right;\">\n",
       "      <th></th>\n",
       "      <th>Education</th>\n",
       "    </tr>\n",
       "  </thead>\n",
       "  <tbody>\n",
       "    <tr>\n",
       "      <th>0</th>\n",
       "      <td>20</td>\n",
       "    </tr>\n",
       "    <tr>\n",
       "      <th>1</th>\n",
       "      <td>25</td>\n",
       "    </tr>\n",
       "  </tbody>\n",
       "</table>\n",
       "</div>"
      ],
      "text/plain": [
       "   Education\n",
       "0         20\n",
       "1         25"
      ]
     },
     "execution_count": 62,
     "metadata": {},
     "output_type": "execute_result"
    }
   ],
   "source": [
    "test2 = educationWageLiniarRgressionModel2Fit.transformer(educationWageLiniarRgressionModelSampleData)\n",
    "test2"
   ]
  },
  {
   "cell_type": "code",
   "execution_count": 63,
   "metadata": {},
   "outputs": [
    {
     "data": {
      "text/plain": [
       "{'0': 137.06291390728478, '1': 167.294701986755}"
      ]
     },
     "execution_count": 63,
     "metadata": {},
     "output_type": "execute_result"
    }
   ],
   "source": [
    "educationWageLiniarRgressionModel2Fit.mainPredictor(test2)"
   ]
  },
  {
   "cell_type": "code",
   "execution_count": 64,
   "metadata": {},
   "outputs": [
    {
     "data": {
      "text/plain": [
       "{'modelName': 'educationWageLiniarRgression2',\n",
       " 'version': '1.0.1',\n",
       " 'params': {'intercept': 16.13576158940394, 'coef_0': 6.046357615894042},\n",
       " 'score': 0.9057136182627167,\n",
       " 'modelLibraray': 'sklearn.LinearRegression',\n",
       " 'libraryMetadata': {'params': {'copy_X': True,\n",
       "   'fit_intercept': True,\n",
       "   'n_jobs': None,\n",
       "   'positive': False},\n",
       "  'r2_score': 0.9057136182627167},\n",
       " 'sampleData': {'dataForTransfer': {'Education': [20, 25]}}}"
      ]
     },
     "execution_count": 64,
     "metadata": {},
     "output_type": "execute_result"
    }
   ],
   "source": [
    "educationWageLiniarRgressionModel2Metadata = {\n",
    "    \"modelName\":f\"educationWageLiniarRgression2\",\n",
    "    \"version\":\"1.0.1\",\n",
    "    \"params\": {\n",
    "        \"intercept\": float(educationWageLiniarRgressionModel2Fit.intercept_),\n",
    "        **{f\"coef_{i}\": float(coef) for i, coef in enumerate(educationWageLiniarRgressionModel2Fit.coef_)}\n",
    "    },\n",
    "    \"score\":  educationWageLiniarRgressionModel2Fit.score(\n",
    "        educationWageDf[[\"Education\"]],\n",
    "        educationWageDf[\"Wage\"]\n",
    "    ),\n",
    "    \"modelLibraray\": 'sklearn.LinearRegression',\n",
    "    \"libraryMetadata\": {\n",
    "        \"params\": educationWageLiniarRgressionModel2Fit.get_params(),\n",
    "        \"r2_score\":  educationWageLiniarRgressionModel2Fit.score(\n",
    "            educationWageDf[[\"Education\"]],\n",
    "            educationWageDf[\"Wage\"]\n",
    "        )\n",
    "    },\n",
    "    \"sampleData\": {\n",
    "        \"dataForTransfer\": educationWageLiniarRgressionModelSampleData\n",
    "    }\n",
    "}\n",
    "educationWageLiniarRgressionModel2Metadata"
   ]
  },
  {
   "cell_type": "code",
   "execution_count": 65,
   "metadata": {},
   "outputs": [
    {
     "name": "stdout",
     "output_type": "stream",
     "text": [
      "✅ Uploaded encrypted ZIP to s3://273-g6/educationWageLiniarRgression2__1.0.1.pkl.zip\n"
     ]
    },
    {
     "data": {
      "text/plain": [
       "{'_id': '683fcab5023766bca2145018',\n",
       " 'modelName': 'educationWageLiniarRgression2',\n",
       " 'version': '1.0.1',\n",
       " 'params': {'intercept': 16.13576158940394, 'coef_0': 6.046357615894042},\n",
       " 'score': 0.9057136182627167,\n",
       " 'modelLibraray': 'sklearn.LinearRegression',\n",
       " 'libraryMetadata': {'params': {'copy_X': True,\n",
       "   'fit_intercept': True,\n",
       "   'n_jobs': None,\n",
       "   'positive': False},\n",
       "  'r2_score': 0.9057136182627167},\n",
       " 'sampleData': {'dataForTransfer': {'Education': [20, 25]}},\n",
       " 'modelType': 'model',\n",
       " 'keepLastOnly': False,\n",
       " 'modelSizeBytes': 1590,\n",
       " 'zippedModelSizeBytes': 1257,\n",
       " 's3Url': '273-g6/educationWageLiniarRgression2__1.0.1.pkl.zip',\n",
       " 'createdAt': '2025-06-04T04:25:25.230Z',\n",
       " 'updatedAt': '2025-06-04T04:25:25.230Z'}"
      ]
     },
     "execution_count": 65,
     "metadata": {},
     "output_type": "execute_result"
    }
   ],
   "source": [
    "registerAJrjModel(educationWageLiniarRgressionModel2Fit, educationWageLiniarRgressionModel2Metadata)"
   ]
  }
 ],
 "metadata": {
  "colab": {
   "private_outputs": true,
   "provenance": []
  },
  "kernelspec": {
   "display_name": "Python 3 (ipykernel)",
   "language": "python",
   "name": "python3"
  },
  "language_info": {
   "codemirror_mode": {
    "name": "ipython",
    "version": 3
   },
   "file_extension": ".py",
   "mimetype": "text/x-python",
   "name": "python",
   "nbconvert_exporter": "python",
   "pygments_lexer": "ipython3",
   "version": "3.13.4"
  }
 },
 "nbformat": 4,
 "nbformat_minor": 4
}
