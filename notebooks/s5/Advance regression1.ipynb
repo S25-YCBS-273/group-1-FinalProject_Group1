{
 "cells": [
  {
   "cell_type": "code",
   "execution_count": 5,
   "id": "4e3ccbfa-f77a-4106-8511-a1d542a201b8",
   "metadata": {},
   "outputs": [],
   "source": [
    "import numpy as np\n",
    "import pandas as pd\n",
    "import matplotlib.pyplot as plt"
   ]
  },
  {
   "cell_type": "code",
   "execution_count": 6,
   "id": "4b57efb0-3312-4309-82ac-65352ec70160",
   "metadata": {},
   "outputs": [],
   "source": [
    "# https://www.statsmodels.org/stable/index.html\n",
    "import statsmodels.api as sm"
   ]
  },
  {
   "cell_type": "code",
   "execution_count": 7,
   "id": "b01fa032-6521-439c-90e1-71f859d2ab8e",
   "metadata": {},
   "outputs": [],
   "source": [
    "import warnings\n",
    "warnings.filterwarnings(\"ignore\")"
   ]
  },
  {
   "cell_type": "code",
   "execution_count": 8,
   "id": "8ebe01ca-c09e-42bd-bb51-e686eca5a812",
   "metadata": {},
   "outputs": [],
   "source": [
    "from functools import partial"
   ]
  },
  {
   "cell_type": "code",
   "execution_count": 9,
   "id": "059eeedd-dadd-4c0d-9c54-4d7255e6bd6a",
   "metadata": {},
   "outputs": [
    {
     "name": "stdout",
     "output_type": "stream",
     "text": [
      "envs Loaded\n",
      "Pinged your deployment. You successfully connected to MongoDB!\n"
     ]
    }
   ],
   "source": [
    "from dotenv import load_dotenv\n",
    "\n",
    "from pathlib import Path\n",
    "\n",
    "env_path = Path(\"../../.env-live\")\n",
    "\n",
    "if env_path.exists():\n",
    "    print('envs Loaded')\n",
    "    load_dotenv(dotenv_path=env_path)\n",
    "from jrjModelRegistry.jrjModelRegistry import registerAJrjModel"
   ]
  },
  {
   "cell_type": "code",
   "execution_count": 10,
   "id": "a91a561c-00df-4dfa-b17f-6012d37f7ebb",
   "metadata": {},
   "outputs": [],
   "source": [
    "sallaryMisDf = pd.read_excel(\"https://www.dropbox.com/scl/fi/zt2vtwhpz8ndblsxqdqx1/Salary_MIS.xlsx?rlkey=2uk6m7m9w90isv6zsynhhhpyv&st=gxumjns5&dl=1\")"
   ]
  },
  {
   "cell_type": "code",
   "execution_count": 11,
   "id": "f61f44a5-e798-44ae-8292-f9077fcbcba7",
   "metadata": {},
   "outputs": [
    {
     "data": {
      "text/html": [
       "<div>\n",
       "<style scoped>\n",
       "    .dataframe tbody tr th:only-of-type {\n",
       "        vertical-align: middle;\n",
       "    }\n",
       "\n",
       "    .dataframe tbody tr th {\n",
       "        vertical-align: top;\n",
       "    }\n",
       "\n",
       "    .dataframe thead th {\n",
       "        text-align: right;\n",
       "    }\n",
       "</style>\n",
       "<table border=\"1\" class=\"dataframe\">\n",
       "  <thead>\n",
       "    <tr style=\"text-align: right;\">\n",
       "      <th></th>\n",
       "      <th>Salary</th>\n",
       "      <th>GPA</th>\n",
       "      <th>MIS</th>\n",
       "      <th>Statistics</th>\n",
       "    </tr>\n",
       "  </thead>\n",
       "  <tbody>\n",
       "    <tr>\n",
       "      <th>0</th>\n",
       "      <td>72</td>\n",
       "      <td>3.53</td>\n",
       "      <td>1</td>\n",
       "      <td>0</td>\n",
       "    </tr>\n",
       "    <tr>\n",
       "      <th>1</th>\n",
       "      <td>66</td>\n",
       "      <td>2.86</td>\n",
       "      <td>1</td>\n",
       "      <td>0</td>\n",
       "    </tr>\n",
       "    <tr>\n",
       "      <th>2</th>\n",
       "      <td>72</td>\n",
       "      <td>3.69</td>\n",
       "      <td>0</td>\n",
       "      <td>0</td>\n",
       "    </tr>\n",
       "    <tr>\n",
       "      <th>3</th>\n",
       "      <td>63</td>\n",
       "      <td>3.24</td>\n",
       "      <td>0</td>\n",
       "      <td>0</td>\n",
       "    </tr>\n",
       "    <tr>\n",
       "      <th>4</th>\n",
       "      <td>65</td>\n",
       "      <td>3.21</td>\n",
       "      <td>0</td>\n",
       "      <td>0</td>\n",
       "    </tr>\n",
       "    <tr>\n",
       "      <th>...</th>\n",
       "      <td>...</td>\n",
       "      <td>...</td>\n",
       "      <td>...</td>\n",
       "      <td>...</td>\n",
       "    </tr>\n",
       "    <tr>\n",
       "      <th>115</th>\n",
       "      <td>66</td>\n",
       "      <td>3.27</td>\n",
       "      <td>0</td>\n",
       "      <td>0</td>\n",
       "    </tr>\n",
       "    <tr>\n",
       "      <th>116</th>\n",
       "      <td>63</td>\n",
       "      <td>2.86</td>\n",
       "      <td>1</td>\n",
       "      <td>0</td>\n",
       "    </tr>\n",
       "    <tr>\n",
       "      <th>117</th>\n",
       "      <td>78</td>\n",
       "      <td>3.04</td>\n",
       "      <td>1</td>\n",
       "      <td>1</td>\n",
       "    </tr>\n",
       "    <tr>\n",
       "      <th>118</th>\n",
       "      <td>64</td>\n",
       "      <td>2.99</td>\n",
       "      <td>0</td>\n",
       "      <td>0</td>\n",
       "    </tr>\n",
       "    <tr>\n",
       "      <th>119</th>\n",
       "      <td>66</td>\n",
       "      <td>3.65</td>\n",
       "      <td>0</td>\n",
       "      <td>0</td>\n",
       "    </tr>\n",
       "  </tbody>\n",
       "</table>\n",
       "<p>120 rows × 4 columns</p>\n",
       "</div>"
      ],
      "text/plain": [
       "     Salary   GPA  MIS  Statistics\n",
       "0        72  3.53    1           0\n",
       "1        66  2.86    1           0\n",
       "2        72  3.69    0           0\n",
       "3        63  3.24    0           0\n",
       "4        65  3.21    0           0\n",
       "..      ...   ...  ...         ...\n",
       "115      66  3.27    0           0\n",
       "116      63  2.86    1           0\n",
       "117      78  3.04    1           1\n",
       "118      64  2.99    0           0\n",
       "119      66  3.65    0           0\n",
       "\n",
       "[120 rows x 4 columns]"
      ]
     },
     "execution_count": 11,
     "metadata": {},
     "output_type": "execute_result"
    }
   ],
   "source": [
    "sallaryMisDf"
   ]
  },
  {
   "cell_type": "code",
   "execution_count": 12,
   "id": "a69d9ed0-38e2-4470-bfc3-21b0b84cfa2c",
   "metadata": {},
   "outputs": [
    {
     "data": {
      "text/plain": [
       "(120, 4)"
      ]
     },
     "execution_count": 12,
     "metadata": {},
     "output_type": "execute_result"
    }
   ],
   "source": [
    "sallaryMisDf.shape"
   ]
  },
  {
   "cell_type": "code",
   "execution_count": 13,
   "id": "5219a144-9e69-4315-b8df-930727cdc53e",
   "metadata": {},
   "outputs": [
    {
     "data": {
      "text/html": [
       "<div>\n",
       "<style scoped>\n",
       "    .dataframe tbody tr th:only-of-type {\n",
       "        vertical-align: middle;\n",
       "    }\n",
       "\n",
       "    .dataframe tbody tr th {\n",
       "        vertical-align: top;\n",
       "    }\n",
       "\n",
       "    .dataframe thead th {\n",
       "        text-align: right;\n",
       "    }\n",
       "</style>\n",
       "<table border=\"1\" class=\"dataframe\">\n",
       "  <thead>\n",
       "    <tr style=\"text-align: right;\">\n",
       "      <th></th>\n",
       "      <th>Salary</th>\n",
       "      <th>GPA</th>\n",
       "      <th>MIS</th>\n",
       "      <th>Statistics</th>\n",
       "    </tr>\n",
       "  </thead>\n",
       "  <tbody>\n",
       "    <tr>\n",
       "      <th>count</th>\n",
       "      <td>120.000000</td>\n",
       "      <td>120.000000</td>\n",
       "      <td>120.000000</td>\n",
       "      <td>120.000000</td>\n",
       "    </tr>\n",
       "    <tr>\n",
       "      <th>mean</th>\n",
       "      <td>69.875000</td>\n",
       "      <td>3.242750</td>\n",
       "      <td>0.316667</td>\n",
       "      <td>0.341667</td>\n",
       "    </tr>\n",
       "    <tr>\n",
       "      <th>std</th>\n",
       "      <td>6.594577</td>\n",
       "      <td>0.493834</td>\n",
       "      <td>0.467127</td>\n",
       "      <td>0.476257</td>\n",
       "    </tr>\n",
       "    <tr>\n",
       "      <th>min</th>\n",
       "      <td>53.000000</td>\n",
       "      <td>2.410000</td>\n",
       "      <td>0.000000</td>\n",
       "      <td>0.000000</td>\n",
       "    </tr>\n",
       "    <tr>\n",
       "      <th>25%</th>\n",
       "      <td>65.750000</td>\n",
       "      <td>2.805000</td>\n",
       "      <td>0.000000</td>\n",
       "      <td>0.000000</td>\n",
       "    </tr>\n",
       "    <tr>\n",
       "      <th>50%</th>\n",
       "      <td>70.000000</td>\n",
       "      <td>3.280000</td>\n",
       "      <td>0.000000</td>\n",
       "      <td>0.000000</td>\n",
       "    </tr>\n",
       "    <tr>\n",
       "      <th>75%</th>\n",
       "      <td>73.250000</td>\n",
       "      <td>3.692500</td>\n",
       "      <td>1.000000</td>\n",
       "      <td>1.000000</td>\n",
       "    </tr>\n",
       "    <tr>\n",
       "      <th>max</th>\n",
       "      <td>88.000000</td>\n",
       "      <td>3.980000</td>\n",
       "      <td>1.000000</td>\n",
       "      <td>1.000000</td>\n",
       "    </tr>\n",
       "  </tbody>\n",
       "</table>\n",
       "</div>"
      ],
      "text/plain": [
       "           Salary         GPA         MIS  Statistics\n",
       "count  120.000000  120.000000  120.000000  120.000000\n",
       "mean    69.875000    3.242750    0.316667    0.341667\n",
       "std      6.594577    0.493834    0.467127    0.476257\n",
       "min     53.000000    2.410000    0.000000    0.000000\n",
       "25%     65.750000    2.805000    0.000000    0.000000\n",
       "50%     70.000000    3.280000    0.000000    0.000000\n",
       "75%     73.250000    3.692500    1.000000    1.000000\n",
       "max     88.000000    3.980000    1.000000    1.000000"
      ]
     },
     "execution_count": 13,
     "metadata": {},
     "output_type": "execute_result"
    }
   ],
   "source": [
    "sallaryMisDf.describe()"
   ]
  },
  {
   "cell_type": "code",
   "execution_count": 14,
   "id": "74580721-0859-4644-90e8-ef2b172c0e53",
   "metadata": {},
   "outputs": [
    {
     "data": {
      "text/plain": [
       "(120, 4)"
      ]
     },
     "execution_count": 14,
     "metadata": {},
     "output_type": "execute_result"
    }
   ],
   "source": [
    "sallaryMisDf.shape"
   ]
  },
  {
   "cell_type": "code",
   "execution_count": 15,
   "id": "299fdc46-94c5-4fae-87b9-52f24f35911e",
   "metadata": {},
   "outputs": [
    {
     "data": {
      "text/html": [
       "<div>\n",
       "<style scoped>\n",
       "    .dataframe tbody tr th:only-of-type {\n",
       "        vertical-align: middle;\n",
       "    }\n",
       "\n",
       "    .dataframe tbody tr th {\n",
       "        vertical-align: top;\n",
       "    }\n",
       "\n",
       "    .dataframe thead th {\n",
       "        text-align: right;\n",
       "    }\n",
       "</style>\n",
       "<table border=\"1\" class=\"dataframe\">\n",
       "  <thead>\n",
       "    <tr style=\"text-align: right;\">\n",
       "      <th></th>\n",
       "      <th>const</th>\n",
       "      <th>GPA</th>\n",
       "      <th>MIS</th>\n",
       "      <th>Statistics</th>\n",
       "    </tr>\n",
       "  </thead>\n",
       "  <tbody>\n",
       "    <tr>\n",
       "      <th>0</th>\n",
       "      <td>1.0</td>\n",
       "      <td>3.53</td>\n",
       "      <td>1</td>\n",
       "      <td>0</td>\n",
       "    </tr>\n",
       "    <tr>\n",
       "      <th>1</th>\n",
       "      <td>1.0</td>\n",
       "      <td>2.86</td>\n",
       "      <td>1</td>\n",
       "      <td>0</td>\n",
       "    </tr>\n",
       "    <tr>\n",
       "      <th>2</th>\n",
       "      <td>1.0</td>\n",
       "      <td>3.69</td>\n",
       "      <td>0</td>\n",
       "      <td>0</td>\n",
       "    </tr>\n",
       "    <tr>\n",
       "      <th>3</th>\n",
       "      <td>1.0</td>\n",
       "      <td>3.24</td>\n",
       "      <td>0</td>\n",
       "      <td>0</td>\n",
       "    </tr>\n",
       "    <tr>\n",
       "      <th>4</th>\n",
       "      <td>1.0</td>\n",
       "      <td>3.21</td>\n",
       "      <td>0</td>\n",
       "      <td>0</td>\n",
       "    </tr>\n",
       "    <tr>\n",
       "      <th>...</th>\n",
       "      <td>...</td>\n",
       "      <td>...</td>\n",
       "      <td>...</td>\n",
       "      <td>...</td>\n",
       "    </tr>\n",
       "    <tr>\n",
       "      <th>115</th>\n",
       "      <td>1.0</td>\n",
       "      <td>3.27</td>\n",
       "      <td>0</td>\n",
       "      <td>0</td>\n",
       "    </tr>\n",
       "    <tr>\n",
       "      <th>116</th>\n",
       "      <td>1.0</td>\n",
       "      <td>2.86</td>\n",
       "      <td>1</td>\n",
       "      <td>0</td>\n",
       "    </tr>\n",
       "    <tr>\n",
       "      <th>117</th>\n",
       "      <td>1.0</td>\n",
       "      <td>3.04</td>\n",
       "      <td>1</td>\n",
       "      <td>1</td>\n",
       "    </tr>\n",
       "    <tr>\n",
       "      <th>118</th>\n",
       "      <td>1.0</td>\n",
       "      <td>2.99</td>\n",
       "      <td>0</td>\n",
       "      <td>0</td>\n",
       "    </tr>\n",
       "    <tr>\n",
       "      <th>119</th>\n",
       "      <td>1.0</td>\n",
       "      <td>3.65</td>\n",
       "      <td>0</td>\n",
       "      <td>0</td>\n",
       "    </tr>\n",
       "  </tbody>\n",
       "</table>\n",
       "<p>120 rows × 4 columns</p>\n",
       "</div>"
      ],
      "text/plain": [
       "     const   GPA  MIS  Statistics\n",
       "0      1.0  3.53    1           0\n",
       "1      1.0  2.86    1           0\n",
       "2      1.0  3.69    0           0\n",
       "3      1.0  3.24    0           0\n",
       "4      1.0  3.21    0           0\n",
       "..     ...   ...  ...         ...\n",
       "115    1.0  3.27    0           0\n",
       "116    1.0  2.86    1           0\n",
       "117    1.0  3.04    1           1\n",
       "118    1.0  2.99    0           0\n",
       "119    1.0  3.65    0           0\n",
       "\n",
       "[120 rows x 4 columns]"
      ]
     },
     "execution_count": 15,
     "metadata": {},
     "output_type": "execute_result"
    }
   ],
   "source": [
    "sm.add_constant(sallaryMisDf[[\"GPA\", \"MIS\", \"Statistics\"]])"
   ]
  },
  {
   "cell_type": "code",
   "execution_count": 16,
   "id": "f9f2ebc5-ad03-42c5-a694-6638d0b1ec38",
   "metadata": {},
   "outputs": [],
   "source": [
    "salaryRegModel1 = sm.OLS(\n",
    "  sallaryMisDf[\"Salary\"],\n",
    "  sm.add_constant(sallaryMisDf[[\"GPA\", \"MIS\", \"Statistics\"]])\n",
    ")"
   ]
  },
  {
   "cell_type": "code",
   "execution_count": 17,
   "id": "412c9836-3f88-4cf5-84c1-410cf92fbc81",
   "metadata": {},
   "outputs": [],
   "source": [
    "salaryRegModel1Fit = salaryRegModel1.fit()"
   ]
  },
  {
   "cell_type": "code",
   "execution_count": 18,
   "id": "e604a267-4174-4930-9bb2-cecd59128c55",
   "metadata": {},
   "outputs": [
    {
     "name": "stdout",
     "output_type": "stream",
     "text": [
      "                            OLS Regression Results                            \n",
      "==============================================================================\n",
      "Dep. Variable:                 Salary   R-squared:                       0.795\n",
      "Model:                            OLS   Adj. R-squared:                  0.790\n",
      "Method:                 Least Squares   F-statistic:                     150.3\n",
      "Date:                Thu, 26 Jun 2025   Prob (F-statistic):           8.35e-40\n",
      "Time:                        22:58:48   Log-Likelihood:                -300.92\n",
      "No. Observations:                 120   AIC:                             609.8\n",
      "Df Residuals:                     116   BIC:                             621.0\n",
      "Df Model:                           3                                         \n",
      "Covariance Type:            nonrobust                                         \n",
      "==============================================================================\n",
      "                 coef    std err          t      P>|t|      [0.025      0.975]\n",
      "------------------------------------------------------------------------------\n",
      "const         44.0072      1.860     23.662      0.000      40.324      47.691\n",
      "GPA            6.6227      0.569     11.649      0.000       5.497       7.749\n",
      "MIS            6.6071      0.595     11.098      0.000       5.428       7.786\n",
      "Statistics     6.7309      0.591     11.391      0.000       5.561       7.901\n",
      "==============================================================================\n",
      "Omnibus:                        1.144   Durbin-Watson:                   2.164\n",
      "Prob(Omnibus):                  0.564   Jarque-Bera (JB):                0.758\n",
      "Skew:                          -0.172   Prob(JB):                        0.685\n",
      "Kurtosis:                       3.182   Cond. No.                         24.4\n",
      "==============================================================================\n",
      "\n",
      "Notes:\n",
      "[1] Standard Errors assume that the covariance matrix of the errors is correctly specified.\n"
     ]
    }
   ],
   "source": [
    "print(salaryRegModel1Fit.summary())"
   ]
  },
  {
   "cell_type": "code",
   "execution_count": 19,
   "id": "532535d8-4c8e-46c4-b4ae-fbdfcdb59747",
   "metadata": {},
   "outputs": [
    {
     "data": {
      "text/html": [
       "<div>\n",
       "<style scoped>\n",
       "    .dataframe tbody tr th:only-of-type {\n",
       "        vertical-align: middle;\n",
       "    }\n",
       "\n",
       "    .dataframe tbody tr th {\n",
       "        vertical-align: top;\n",
       "    }\n",
       "\n",
       "    .dataframe thead th {\n",
       "        text-align: right;\n",
       "    }\n",
       "</style>\n",
       "<table border=\"1\" class=\"dataframe\">\n",
       "  <thead>\n",
       "    <tr style=\"text-align: right;\">\n",
       "      <th></th>\n",
       "      <th>Salary</th>\n",
       "      <th>GPA</th>\n",
       "      <th>MIS</th>\n",
       "      <th>Statistics</th>\n",
       "    </tr>\n",
       "  </thead>\n",
       "  <tbody>\n",
       "    <tr>\n",
       "      <th>0</th>\n",
       "      <td>72</td>\n",
       "      <td>3.53</td>\n",
       "      <td>1</td>\n",
       "      <td>0</td>\n",
       "    </tr>\n",
       "    <tr>\n",
       "      <th>1</th>\n",
       "      <td>66</td>\n",
       "      <td>2.86</td>\n",
       "      <td>1</td>\n",
       "      <td>0</td>\n",
       "    </tr>\n",
       "    <tr>\n",
       "      <th>2</th>\n",
       "      <td>72</td>\n",
       "      <td>3.69</td>\n",
       "      <td>0</td>\n",
       "      <td>0</td>\n",
       "    </tr>\n",
       "    <tr>\n",
       "      <th>3</th>\n",
       "      <td>63</td>\n",
       "      <td>3.24</td>\n",
       "      <td>0</td>\n",
       "      <td>0</td>\n",
       "    </tr>\n",
       "    <tr>\n",
       "      <th>4</th>\n",
       "      <td>65</td>\n",
       "      <td>3.21</td>\n",
       "      <td>0</td>\n",
       "      <td>0</td>\n",
       "    </tr>\n",
       "    <tr>\n",
       "      <th>...</th>\n",
       "      <td>...</td>\n",
       "      <td>...</td>\n",
       "      <td>...</td>\n",
       "      <td>...</td>\n",
       "    </tr>\n",
       "    <tr>\n",
       "      <th>115</th>\n",
       "      <td>66</td>\n",
       "      <td>3.27</td>\n",
       "      <td>0</td>\n",
       "      <td>0</td>\n",
       "    </tr>\n",
       "    <tr>\n",
       "      <th>116</th>\n",
       "      <td>63</td>\n",
       "      <td>2.86</td>\n",
       "      <td>1</td>\n",
       "      <td>0</td>\n",
       "    </tr>\n",
       "    <tr>\n",
       "      <th>117</th>\n",
       "      <td>78</td>\n",
       "      <td>3.04</td>\n",
       "      <td>1</td>\n",
       "      <td>1</td>\n",
       "    </tr>\n",
       "    <tr>\n",
       "      <th>118</th>\n",
       "      <td>64</td>\n",
       "      <td>2.99</td>\n",
       "      <td>0</td>\n",
       "      <td>0</td>\n",
       "    </tr>\n",
       "    <tr>\n",
       "      <th>119</th>\n",
       "      <td>66</td>\n",
       "      <td>3.65</td>\n",
       "      <td>0</td>\n",
       "      <td>0</td>\n",
       "    </tr>\n",
       "  </tbody>\n",
       "</table>\n",
       "<p>120 rows × 4 columns</p>\n",
       "</div>"
      ],
      "text/plain": [
       "     Salary   GPA  MIS  Statistics\n",
       "0        72  3.53    1           0\n",
       "1        66  2.86    1           0\n",
       "2        72  3.69    0           0\n",
       "3        63  3.24    0           0\n",
       "4        65  3.21    0           0\n",
       "..      ...   ...  ...         ...\n",
       "115      66  3.27    0           0\n",
       "116      63  2.86    1           0\n",
       "117      78  3.04    1           1\n",
       "118      64  2.99    0           0\n",
       "119      66  3.65    0           0\n",
       "\n",
       "[120 rows x 4 columns]"
      ]
     },
     "execution_count": 19,
     "metadata": {},
     "output_type": "execute_result"
    }
   ],
   "source": [
    "sallaryMisDf"
   ]
  },
  {
   "cell_type": "code",
   "execution_count": 20,
   "id": "da5ba7d2-498f-463c-9bcb-9cc3326f3246",
   "metadata": {},
   "outputs": [],
   "source": [
    "salaryRegModel1SampleData = {\n",
    "    \"GPA\": [3.53, 3.04, 3.65],\n",
    "    \"MIS\": [1, 1, 0],\n",
    "    \"Statistics\": [0,1, 0]\n",
    "}"
   ]
  },
  {
   "cell_type": "code",
   "execution_count": 21,
   "id": "4989e117-2f92-4ec2-803e-a8664b19d91b",
   "metadata": {},
   "outputs": [],
   "source": [
    "def salaryRegModel1Transformer(dataForTransfer = None):\n",
    "    import pandas as pd\n",
    "    import statsmodels.api as sm\n",
    "    dfTransformer = pd.DataFrame(dataForTransfer)\n",
    "    dfTransformer = sm.add_constant(dfTransformer[['GPA', 'MIS', 'Statistics']])\n",
    "    return dfTransformer"
   ]
  },
  {
   "cell_type": "code",
   "execution_count": 22,
   "id": "d2e9776c-45cf-4d79-83f4-0601130931cb",
   "metadata": {},
   "outputs": [],
   "source": [
    "def salaryRegModel1MainPredictor(self, transformedData):\n",
    "    return self.predict(transformedData)"
   ]
  },
  {
   "cell_type": "code",
   "execution_count": 23,
   "id": "c23c3812-84bc-4b72-ab53-8fa811df9efe",
   "metadata": {},
   "outputs": [],
   "source": [
    "salaryRegModel1Fit.mainPredictor = partial(salaryRegModel1MainPredictor, salaryRegModel1Fit)"
   ]
  },
  {
   "cell_type": "code",
   "execution_count": 24,
   "id": "1c7d8959-f5bd-4e63-a100-9f72752fee21",
   "metadata": {},
   "outputs": [],
   "source": [
    "salaryRegModel1Fit.transformer = salaryRegModel1Transformer"
   ]
  },
  {
   "cell_type": "code",
   "execution_count": 25,
   "id": "0d8127fa-3ced-45ac-954a-bee39c0a5101",
   "metadata": {},
   "outputs": [
    {
     "data": {
      "text/html": [
       "<div>\n",
       "<style scoped>\n",
       "    .dataframe tbody tr th:only-of-type {\n",
       "        vertical-align: middle;\n",
       "    }\n",
       "\n",
       "    .dataframe tbody tr th {\n",
       "        vertical-align: top;\n",
       "    }\n",
       "\n",
       "    .dataframe thead th {\n",
       "        text-align: right;\n",
       "    }\n",
       "</style>\n",
       "<table border=\"1\" class=\"dataframe\">\n",
       "  <thead>\n",
       "    <tr style=\"text-align: right;\">\n",
       "      <th></th>\n",
       "      <th>const</th>\n",
       "      <th>GPA</th>\n",
       "      <th>MIS</th>\n",
       "      <th>Statistics</th>\n",
       "    </tr>\n",
       "  </thead>\n",
       "  <tbody>\n",
       "    <tr>\n",
       "      <th>0</th>\n",
       "      <td>1.0</td>\n",
       "      <td>3.53</td>\n",
       "      <td>1</td>\n",
       "      <td>0</td>\n",
       "    </tr>\n",
       "    <tr>\n",
       "      <th>1</th>\n",
       "      <td>1.0</td>\n",
       "      <td>3.04</td>\n",
       "      <td>1</td>\n",
       "      <td>1</td>\n",
       "    </tr>\n",
       "    <tr>\n",
       "      <th>2</th>\n",
       "      <td>1.0</td>\n",
       "      <td>3.65</td>\n",
       "      <td>0</td>\n",
       "      <td>0</td>\n",
       "    </tr>\n",
       "  </tbody>\n",
       "</table>\n",
       "</div>"
      ],
      "text/plain": [
       "   const   GPA  MIS  Statistics\n",
       "0    1.0  3.53    1           0\n",
       "1    1.0  3.04    1           1\n",
       "2    1.0  3.65    0           0"
      ]
     },
     "execution_count": 25,
     "metadata": {},
     "output_type": "execute_result"
    }
   ],
   "source": [
    "test1 = salaryRegModel1Fit.transformer(salaryRegModel1SampleData)\n",
    "test1\n",
    "# salaryRegModel1Fit.mainPredictor(test1)"
   ]
  },
  {
   "cell_type": "code",
   "execution_count": 26,
   "id": "dc10a2ff-0cb8-4eb9-b1cb-b1ea93099666",
   "metadata": {},
   "outputs": [
    {
     "data": {
      "text/plain": [
       "0    73.992468\n",
       "1    77.478273\n",
       "2    68.180124\n",
       "dtype: float64"
      ]
     },
     "execution_count": 26,
     "metadata": {},
     "output_type": "execute_result"
    }
   ],
   "source": [
    "salaryRegModel1Fit.mainPredictor(test1)"
   ]
  },
  {
   "cell_type": "code",
   "execution_count": 27,
   "id": "a68edd3a-22da-4b26-84b0-6e7d403d19ac",
   "metadata": {},
   "outputs": [
    {
     "data": {
      "text/plain": [
       "{'modelName': 'salaryRegModel1Fit',\n",
       " 'version': '1.0.1',\n",
       " 'params': {'const': 44.00724634057483,\n",
       "  'GPA': 6.622706150356178,\n",
       "  'MIS': 6.607068893822078,\n",
       "  'Statistics': 6.730931143358017},\n",
       " 'score': 0.7953924097617404,\n",
       " 'modelLibraray': 'sm.OLS',\n",
       " 'libraryMetadata': {'pvalues': {'const': 3.2704010980898553e-46,\n",
       "   'GPA': 3.077793077405891e-21,\n",
       "   'MIS': 6.058766938187725e-20,\n",
       "   'Statistics': 1.2379781357348497e-20},\n",
       "  'r_squared': 0.7953924097617404,\n",
       "  'adj_r_squared': 0.7901008341521303},\n",
       " 'sampleData': {'dataForTransfer': {'GPA': [3.53, 3.04, 3.65],\n",
       "   'MIS': [1, 1, 0],\n",
       "   'Statistics': [0, 1, 0]}}}"
      ]
     },
     "execution_count": 27,
     "metadata": {},
     "output_type": "execute_result"
    }
   ],
   "source": [
    "salaryRegModel1FitMetadata = {\n",
    "    \"modelName\":f\"salaryRegModel1Fit\",\n",
    "    \"version\":\"1.0.1\",\n",
    "    \"params\": salaryRegModel1Fit.params.to_dict(),\n",
    "    \"score\": float(salaryRegModel1Fit.rsquared),\n",
    "    \"modelLibraray\": 'sm.OLS',\n",
    "    \"libraryMetadata\": {\n",
    "        \"pvalues\": salaryRegModel1Fit.pvalues.to_dict(),\n",
    "        \"r_squared\": float(salaryRegModel1Fit.rsquared),\n",
    "        \"adj_r_squared\": float(salaryRegModel1Fit.rsquared_adj)\n",
    "    },\n",
    "\n",
    "    \"sampleData\": {\n",
    "        \"dataForTransfer\": salaryRegModel1SampleData\n",
    "    }\n",
    "}\n",
    "salaryRegModel1FitMetadata"
   ]
  },
  {
   "cell_type": "code",
   "execution_count": 28,
   "id": "68c07df1-b92f-47d2-9e01-641356e6d991",
   "metadata": {},
   "outputs": [
    {
     "name": "stdout",
     "output_type": "stream",
     "text": [
      "✅ Uploaded encrypted ZIP to s3://273-g1/salaryRegModel1Fit__1.0.1.pkl.zip\n"
     ]
    },
    {
     "data": {
      "text/plain": [
       "{'_id': '685d7366250ee0d3933cb08b',\n",
       " 'modelName': 'salaryRegModel1Fit',\n",
       " 'version': '1.0.1',\n",
       " 'params': {'const': 44.00724634057483,\n",
       "  'GPA': 6.622706150356178,\n",
       "  'MIS': 6.607068893822078,\n",
       "  'Statistics': 6.730931143358017},\n",
       " 'score': 0.7953924097617404,\n",
       " 'modelLibraray': 'sm.OLS',\n",
       " 'libraryMetadata': {'pvalues': {'const': 3.2704010980898553e-46,\n",
       "   'GPA': 3.077793077405891e-21,\n",
       "   'MIS': 6.058766938187725e-20,\n",
       "   'Statistics': 1.2379781357348497e-20},\n",
       "  'r_squared': 0.7953924097617404,\n",
       "  'adj_r_squared': 0.7901008341521303},\n",
       " 'sampleData': {'dataForTransfer': {'GPA': [3.53, 3.04, 3.65],\n",
       "   'MIS': [1, 1, 0],\n",
       "   'Statistics': [0, 1, 0]}},\n",
       " 'modelType': 'model',\n",
       " 'keepLastOnly': False,\n",
       " 'modelSizeBytes': 20657,\n",
       " 'zippedModelSizeBytes': 7986,\n",
       " 's3Url': '273-g1/salaryRegModel1Fit__1.0.1.pkl.zip',\n",
       " 'createdAt': '2025-06-26T16:20:54.319Z',\n",
       " 'updatedAt': '2025-06-26T16:20:54.319Z'}"
      ]
     },
     "execution_count": 28,
     "metadata": {},
     "output_type": "execute_result"
    }
   ],
   "source": [
    "registerAJrjModel(salaryRegModel1Fit, salaryRegModel1FitMetadata)"
   ]
  },
  {
   "cell_type": "code",
   "execution_count": 29,
   "id": "c469eb9a-65ae-401c-b042-a5566de095de",
   "metadata": {},
   "outputs": [
    {
     "data": {
      "text/html": [
       "<div>\n",
       "<style scoped>\n",
       "    .dataframe tbody tr th:only-of-type {\n",
       "        vertical-align: middle;\n",
       "    }\n",
       "\n",
       "    .dataframe tbody tr th {\n",
       "        vertical-align: top;\n",
       "    }\n",
       "\n",
       "    .dataframe thead th {\n",
       "        text-align: right;\n",
       "    }\n",
       "</style>\n",
       "<table border=\"1\" class=\"dataframe\">\n",
       "  <thead>\n",
       "    <tr style=\"text-align: right;\">\n",
       "      <th></th>\n",
       "      <th>Salary</th>\n",
       "      <th>GPA</th>\n",
       "      <th>MIS</th>\n",
       "      <th>Statistics</th>\n",
       "    </tr>\n",
       "  </thead>\n",
       "  <tbody>\n",
       "    <tr>\n",
       "      <th>0</th>\n",
       "      <td>72</td>\n",
       "      <td>3.53</td>\n",
       "      <td>1</td>\n",
       "      <td>0</td>\n",
       "    </tr>\n",
       "    <tr>\n",
       "      <th>1</th>\n",
       "      <td>66</td>\n",
       "      <td>2.86</td>\n",
       "      <td>1</td>\n",
       "      <td>0</td>\n",
       "    </tr>\n",
       "    <tr>\n",
       "      <th>2</th>\n",
       "      <td>72</td>\n",
       "      <td>3.69</td>\n",
       "      <td>0</td>\n",
       "      <td>0</td>\n",
       "    </tr>\n",
       "    <tr>\n",
       "      <th>3</th>\n",
       "      <td>63</td>\n",
       "      <td>3.24</td>\n",
       "      <td>0</td>\n",
       "      <td>0</td>\n",
       "    </tr>\n",
       "    <tr>\n",
       "      <th>4</th>\n",
       "      <td>65</td>\n",
       "      <td>3.21</td>\n",
       "      <td>0</td>\n",
       "      <td>0</td>\n",
       "    </tr>\n",
       "    <tr>\n",
       "      <th>...</th>\n",
       "      <td>...</td>\n",
       "      <td>...</td>\n",
       "      <td>...</td>\n",
       "      <td>...</td>\n",
       "    </tr>\n",
       "    <tr>\n",
       "      <th>115</th>\n",
       "      <td>66</td>\n",
       "      <td>3.27</td>\n",
       "      <td>0</td>\n",
       "      <td>0</td>\n",
       "    </tr>\n",
       "    <tr>\n",
       "      <th>116</th>\n",
       "      <td>63</td>\n",
       "      <td>2.86</td>\n",
       "      <td>1</td>\n",
       "      <td>0</td>\n",
       "    </tr>\n",
       "    <tr>\n",
       "      <th>117</th>\n",
       "      <td>78</td>\n",
       "      <td>3.04</td>\n",
       "      <td>1</td>\n",
       "      <td>1</td>\n",
       "    </tr>\n",
       "    <tr>\n",
       "      <th>118</th>\n",
       "      <td>64</td>\n",
       "      <td>2.99</td>\n",
       "      <td>0</td>\n",
       "      <td>0</td>\n",
       "    </tr>\n",
       "    <tr>\n",
       "      <th>119</th>\n",
       "      <td>66</td>\n",
       "      <td>3.65</td>\n",
       "      <td>0</td>\n",
       "      <td>0</td>\n",
       "    </tr>\n",
       "  </tbody>\n",
       "</table>\n",
       "<p>120 rows × 4 columns</p>\n",
       "</div>"
      ],
      "text/plain": [
       "     Salary   GPA  MIS  Statistics\n",
       "0        72  3.53    1           0\n",
       "1        66  2.86    1           0\n",
       "2        72  3.69    0           0\n",
       "3        63  3.24    0           0\n",
       "4        65  3.21    0           0\n",
       "..      ...   ...  ...         ...\n",
       "115      66  3.27    0           0\n",
       "116      63  2.86    1           0\n",
       "117      78  3.04    1           1\n",
       "118      64  2.99    0           0\n",
       "119      66  3.65    0           0\n",
       "\n",
       "[120 rows x 4 columns]"
      ]
     },
     "execution_count": 29,
     "metadata": {},
     "output_type": "execute_result"
    }
   ],
   "source": [
    "sallaryMisDf"
   ]
  },
  {
   "cell_type": "code",
   "execution_count": null,
   "id": "bef410c3-df6e-44a0-98d7-6689dd78378f",
   "metadata": {},
   "outputs": [],
   "source": [
    "sallaryMisDf[\"misXStatistics\"] = sallaryMisDf[\"MIS\"] * sallaryMisDf[\"Statistics\"]\n",
    "sallaryMisDf['misXStatistics1'] = sallaryMisDf.apply(lambda row: row['MIS'] * row['Statistics'], axis=1)\n",
    "\n",
    "sallaryMisDf"
   ]
  },
  {
   "cell_type": "code",
   "execution_count": null,
   "id": "c202e0a7-d558-4704-943b-e43b39feec6f",
   "metadata": {},
   "outputs": [],
   "source": [
    "salaryRegModel2 = sm.OLS(\n",
    "  sallaryMisDf[\"Salary\"],\n",
    "  sm.add_constant(\n",
    "      sallaryMisDf[[\n",
    "          \"GPA\",\n",
    "          \"MIS\",\n",
    "          \"Statistics\",\n",
    "          \"misXStatistics1\"\n",
    "      ]]\n",
    "  )\n",
    ")"
   ]
  },
  {
   "cell_type": "code",
   "execution_count": null,
   "id": "a9569f6e-4727-4187-b70f-3c9cf94220f5",
   "metadata": {},
   "outputs": [],
   "source": [
    "salaryRegModel2Fit = salaryRegModel2.fit()"
   ]
  },
  {
   "cell_type": "code",
   "execution_count": null,
   "id": "803f5f04-6fbd-4ab7-abd1-bcf200689f89",
   "metadata": {},
   "outputs": [],
   "source": [
    "print(salaryRegModel2Fit.summary())"
   ]
  },
  {
   "cell_type": "code",
   "execution_count": null,
   "id": "8159c687-527e-4e1f-a3b9-22019180a633",
   "metadata": {},
   "outputs": [],
   "source": [
    "salaryRegModel2SampleData = salaryRegModel1SampleData"
   ]
  },
  {
   "cell_type": "code",
   "execution_count": null,
   "id": "84eaf7a9-07e0-4880-8ae7-683be1909ff7",
   "metadata": {},
   "outputs": [],
   "source": [
    "def salaryRegModel2Transformer(dataForTransfer = None):\n",
    "    import pandas as pd\n",
    "    import statsmodels.api as sm\n",
    "    dfTransformer = pd.DataFrame(dataForTransfer)\n",
    "    dfTransformer['misXStatistics1'] = dfTransformer.apply(lambda row: row['MIS'] * row['Statistics'], axis=1)\n",
    "    dfTransformer = sm.add_constant(dfTransformer[['GPA', 'MIS', 'Statistics', 'misXStatistics1']])\n",
    "    return dfTransformer"
   ]
  },
  {
   "cell_type": "code",
   "execution_count": null,
   "id": "06ebe00c-faa0-4ecd-b83d-b0a6ecd68514",
   "metadata": {},
   "outputs": [],
   "source": [
    "salaryRegModel2Fit.transformer = salaryRegModel2Transformer"
   ]
  },
  {
   "cell_type": "code",
   "execution_count": null,
   "id": "3e09092e-748a-4605-9785-3219f0221264",
   "metadata": {},
   "outputs": [],
   "source": [
    "salaryRegModel2Fit.mainPredictor = partial(salaryRegModel1MainPredictor, salaryRegModel2Fit)"
   ]
  },
  {
   "cell_type": "code",
   "execution_count": null,
   "id": "ef3fcaf3-cc96-4bb2-b574-7ff92e4bad43",
   "metadata": {},
   "outputs": [],
   "source": [
    "test2 = salaryRegModel2Fit.transformer(salaryRegModel2SampleData)\n",
    "test2"
   ]
  },
  {
   "cell_type": "code",
   "execution_count": null,
   "id": "52c242ca-7ce0-4f5d-a9e4-d37f45f78396",
   "metadata": {},
   "outputs": [],
   "source": [
    "salaryRegModel2Fit.mainPredictor(test2)"
   ]
  },
  {
   "cell_type": "code",
   "execution_count": null,
   "id": "7d0810ac-541e-48b1-a888-6a4ebaf90414",
   "metadata": {},
   "outputs": [],
   "source": [
    "salaryRegModel2FitMetadata = {\n",
    "    \"modelName\":f\"salaryRegModel2Fit\",\n",
    "    \"version\":\"1.0.1\",\n",
    "    \"params\": salaryRegModel2Fit.params.to_dict(),\n",
    "    \"score\": float(salaryRegModel2Fit.rsquared),\n",
    "    \"modelLibraray\": 'sm.OLS',\n",
    "    \"libraryMetadata\": {\n",
    "        \"pvalues\": salaryRegModel2Fit.pvalues.to_dict(),\n",
    "        \"r_squared\": float(salaryRegModel2Fit.rsquared),\n",
    "        \"adj_r_squared\": float(salaryRegModel2Fit.rsquared_adj)\n",
    "    },\n",
    "\n",
    "    \"sampleData\": {\n",
    "        \"dataForTransfer\": salaryRegModel2SampleData\n",
    "    }\n",
    "}\n",
    "salaryRegModel2FitMetadata"
   ]
  },
  {
   "cell_type": "code",
   "execution_count": null,
   "id": "0f73e07b-5701-4f74-b55e-32029ff0f955",
   "metadata": {},
   "outputs": [],
   "source": [
    "registerAJrjModel(salaryRegModel2Fit, salaryRegModel2FitMetadata)"
   ]
  },
  {
   "cell_type": "code",
   "execution_count": null,
   "id": "1c9ea991-1b99-4de4-95b6-691fcb8b9670",
   "metadata": {},
   "outputs": [],
   "source": [
    "sallaryMisDf['misXGpa'] = sallaryMisDf.apply(lambda row: row['MIS'] * row['GPA'], axis=1)\n",
    "\n",
    "sallaryMisDf\n"
   ]
  },
  {
   "cell_type": "code",
   "execution_count": null,
   "id": "079dd30c-b259-4d8c-b052-ccbd95c00228",
   "metadata": {},
   "outputs": [],
   "source": [
    "salaryRegModel3 = sm.OLS(\n",
    "  sallaryMisDf[\"Salary\"],\n",
    "  sm.add_constant(\n",
    "      sallaryMisDf[[\n",
    "          \"GPA\",\n",
    "          \"MIS\",\n",
    "          \"Statistics\",\n",
    "          \"misXGpa\"\n",
    "      ]]\n",
    "  )\n",
    ")"
   ]
  },
  {
   "cell_type": "code",
   "execution_count": null,
   "id": "1bd0c7dc-57db-486b-a986-8b46f0098764",
   "metadata": {},
   "outputs": [],
   "source": [
    "salaryRegModel3Fit = salaryRegModel3.fit()"
   ]
  },
  {
   "cell_type": "code",
   "execution_count": null,
   "id": "839d701f-e6e9-4a13-a611-03abeffa7daf",
   "metadata": {},
   "outputs": [],
   "source": [
    "print(salaryRegModel3Fit.summary())"
   ]
  },
  {
   "cell_type": "code",
   "execution_count": null,
   "id": "d8a898bf-434e-4f01-9de9-5096aba52556",
   "metadata": {},
   "outputs": [],
   "source": [
    "salaryRegModel3Fit = salaryRegModel3.fit()"
   ]
  },
  {
   "cell_type": "code",
   "execution_count": null,
   "id": "3946074e-0796-452c-8c40-29af3c9f5b12",
   "metadata": {},
   "outputs": [],
   "source": [
    "print(salaryRegModel3Fit.summary())"
   ]
  },
  {
   "cell_type": "code",
   "execution_count": null,
   "id": "f4b0552c-beec-480e-b06f-5f8eec606cc1",
   "metadata": {},
   "outputs": [],
   "source": [
    "sallaryMisDf['statisticsXGpa'] = sallaryMisDf.apply(lambda row: row['Statistics'] * row['GPA'], axis=1)\n",
    "\n",
    "sallaryMisDf"
   ]
  },
  {
   "cell_type": "code",
   "execution_count": null,
   "id": "18ebdb71-fd7e-4a15-9cda-f8548b277824",
   "metadata": {},
   "outputs": [],
   "source": [
    "salaryRegModel4 = sm.OLS(\n",
    "  sallaryMisDf[\"Salary\"],\n",
    "  sm.add_constant(\n",
    "      sallaryMisDf[[\n",
    "          \"GPA\",\n",
    "          \"MIS\",\n",
    "          \"Statistics\",\n",
    "          \"statisticsXGpa\"\n",
    "      ]]\n",
    "  )\n",
    ")"
   ]
  },
  {
   "cell_type": "code",
   "execution_count": null,
   "id": "776b0f8e-e871-48dc-af0e-fcbeb4fd5b17",
   "metadata": {},
   "outputs": [],
   "source": [
    "salaryRegModel4Fit = salaryRegModel4.fit()"
   ]
  },
  {
   "cell_type": "code",
   "execution_count": null,
   "id": "d26c6a1c-cb61-4595-a220-4f8f6bd1aa63",
   "metadata": {},
   "outputs": [],
   "source": [
    "print(salaryRegModel4Fit.summary())"
   ]
  },
  {
   "cell_type": "code",
   "execution_count": null,
   "id": "51491d80-ac4a-4177-aad6-1e8bb8b58766",
   "metadata": {},
   "outputs": [],
   "source": [
    "salaryRegModel5 = sm.OLS(\n",
    "  sallaryMisDf[\"Salary\"],\n",
    "  sm.add_constant(\n",
    "      sallaryMisDf[[\n",
    "          \"GPA\",\n",
    "          \"MIS\",\n",
    "          \"Statistics\",\n",
    "          \"misXStatistics1\",\n",
    "          \"misXGpa\",\n",
    "          \"statisticsXGpa\"\n",
    "      ]]\n",
    "  )\n",
    ")"
   ]
  },
  {
   "cell_type": "code",
   "execution_count": null,
   "id": "38bc8e69-2e22-487b-a7a4-c6ac4d22ef2a",
   "metadata": {},
   "outputs": [],
   "source": [
    "salaryRegModel5Fit = salaryRegModel5.fit()"
   ]
  },
  {
   "cell_type": "code",
   "execution_count": null,
   "id": "db404344-d2bc-447c-b9fd-ccf12835dfc8",
   "metadata": {},
   "outputs": [],
   "source": [
    "print(salaryRegModel5Fit.summary())"
   ]
  },
  {
   "cell_type": "code",
   "execution_count": null,
   "id": "8c543f06-ed91-43c0-92a1-5fb04be5d8ce",
   "metadata": {},
   "outputs": [],
   "source": [
    "salaryRegModel6 = sm.OLS(\n",
    "  sallaryMisDf[\"Salary\"],\n",
    "  sm.add_constant(\n",
    "      sallaryMisDf[[\n",
    "          \"GPA\",\n",
    "          # \"MIS\",\n",
    "          \"Statistics\",\n",
    "          \"misXStatistics1\",\n",
    "          # \"misXGpa\",\n",
    "          # \"statisticsXGpa\"\n",
    "      ]]\n",
    "  )\n",
    ")"
   ]
  },
  {
   "cell_type": "code",
   "execution_count": null,
   "id": "6eaa4ed1-6930-4772-a261-d68b643603e8",
   "metadata": {},
   "outputs": [],
   "source": [
    "salaryRegModel6Fit = salaryRegModel6.fit()"
   ]
  },
  {
   "cell_type": "code",
   "execution_count": null,
   "id": "b07cb92f-edef-48b5-bba4-66093538d40e",
   "metadata": {},
   "outputs": [],
   "source": [
    "print(salaryRegModel6Fit.summary())"
   ]
  },
  {
   "cell_type": "markdown",
   "id": "e15ca44d-4460-4bac-acdf-5465122e3f36",
   "metadata": {},
   "source": [
    "## AFTER AREFULLY LOOKUP WE RELIZED  salaryRegModel4Fit SO LETS KEEP IT AS THE BEST"
   ]
  },
  {
   "cell_type": "code",
   "execution_count": null,
   "id": "8efe236d-36e0-4c30-a459-bd5eb05dcf00",
   "metadata": {},
   "outputs": [],
   "source": [
    "def salaryRegModel4Transformer(dataForTransfer = None):\n",
    "    import pandas as pd\n",
    "    import statsmodels.api as sm\n",
    "    dfTransformer = pd.DataFrame(dataForTransfer)\n",
    "    dfTransformer['statisticsXGpa'] = dfTransformer.apply(lambda row: row['Statistics'] * row['GPA'], axis=1)\n",
    "    dfTransformer = sm.add_constant(dfTransformer[['GPA', 'MIS', 'Statistics', 'statisticsXGpa']])\n",
    "    return dfTransformer"
   ]
  },
  {
   "cell_type": "code",
   "execution_count": null,
   "id": "dc0dd8cf-09ad-4c64-93f8-5ffa1e1d788f",
   "metadata": {},
   "outputs": [],
   "source": [
    "salaryRegModel4Fit.transformer = salaryRegModel4Transformer"
   ]
  },
  {
   "cell_type": "code",
   "execution_count": null,
   "id": "82a50ac7-4a7a-43a7-af8d-469186fa8ec3",
   "metadata": {},
   "outputs": [],
   "source": [
    "salaryRegModel4Fit.mainPredictor = partial(salaryRegModel1MainPredictor, salaryRegModel4Fit)"
   ]
  },
  {
   "cell_type": "code",
   "execution_count": null,
   "id": "c06b6d49-1eca-4e88-b60d-70598fe56978",
   "metadata": {},
   "outputs": [],
   "source": [
    "test4 = salaryRegModel4Fit.transformer(salaryRegModel2SampleData)\n",
    "test4"
   ]
  },
  {
   "cell_type": "code",
   "execution_count": null,
   "id": "b48345a4-db63-4c44-ac69-39a54bf514e1",
   "metadata": {},
   "outputs": [],
   "source": [
    "salaryRegModel4Fit.mainPredictor(test4)"
   ]
  },
  {
   "cell_type": "code",
   "execution_count": null,
   "id": "dd6e0b4d-a1c3-4624-95e9-e81aefe75432",
   "metadata": {},
   "outputs": [],
   "source": [
    "salaryRegModel4FitMetadata = {\n",
    "    \"modelName\":f\"salaryRegModel4Fit\",\n",
    "    \"version\":\"1.0.1\",\n",
    "    \"params\": salaryRegModel4Fit.params.to_dict(),\n",
    "    \"score\": float(salaryRegModel4Fit.rsquared),\n",
    "    \"modelLibraray\": 'sm.OLS',\n",
    "    \"libraryMetadata\": {\n",
    "        \"pvalues\": salaryRegModel4Fit.pvalues.to_dict(),\n",
    "        \"r_squared\": float(salaryRegModel4Fit.rsquared),\n",
    "        \"adj_r_squared\": float(salaryRegModel4Fit.rsquared_adj)\n",
    "    },\n",
    "\n",
    "    \"sampleData\": {\n",
    "        \"dataForTransfer\": salaryRegModel2SampleData\n",
    "    }\n",
    "}\n",
    "salaryRegModel4FitMetadata"
   ]
  },
  {
   "cell_type": "code",
   "execution_count": null,
   "id": "dadecbfd-e3f7-48e1-84f5-c4263e704410",
   "metadata": {},
   "outputs": [],
   "source": [
    "registerAJrjModel(salaryRegModel4Fit, salaryRegModel4FitMetadata)"
   ]
  },
  {
   "cell_type": "code",
   "execution_count": null,
   "id": "945a2747-7386-452d-90c5-2c1ad183a39b",
   "metadata": {},
   "outputs": [],
   "source": [
    "sallaryMisDf\n"
   ]
  },
  {
   "cell_type": "code",
   "execution_count": null,
   "id": "75f1bf7a-f316-4d48-996a-d6d94b4fddfd",
   "metadata": {},
   "outputs": [],
   "source": []
  },
  {
   "cell_type": "code",
   "execution_count": null,
   "id": "e2bd268e-b80b-4ed2-9bb0-90a03e439228",
   "metadata": {},
   "outputs": [],
   "source": []
  },
  {
   "cell_type": "code",
   "execution_count": null,
   "id": "66a87a71-f543-455e-8018-c48b7c7b49e8",
   "metadata": {},
   "outputs": [],
   "source": []
  }
 ],
 "metadata": {
  "kernelspec": {
   "display_name": "Python 3 (ipykernel)",
   "language": "python",
   "name": "python3"
  },
  "language_info": {
   "codemirror_mode": {
    "name": "ipython",
    "version": 3
   },
   "file_extension": ".py",
   "mimetype": "text/x-python",
   "name": "python",
   "nbconvert_exporter": "python",
   "pygments_lexer": "ipython3",
   "version": "3.13.4"
  }
 },
 "nbformat": 4,
 "nbformat_minor": 5
}
