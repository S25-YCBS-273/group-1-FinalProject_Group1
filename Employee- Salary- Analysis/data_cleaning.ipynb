{
 "cells": [
  {
   "cell_type": "code",
   "execution_count": 2,
   "id": "c29aef2c-c112-48b6-85fd-703325406688",
   "metadata": {},
   "outputs": [],
   "source": [
    "import numpy as np\n",
    "import pandas as pd\n",
    "import matplotlib.pyplot as plt"
   ]
  },
  {
   "cell_type": "code",
   "execution_count": 3,
   "id": "9e9aa4fc-7ace-48b0-ac65-f3d7de455e8d",
   "metadata": {},
   "outputs": [],
   "source": [
    "# https://www.statsmodels.org/stable/index.html\n",
    "import statsmodels.api as sm"
   ]
  },
  {
   "cell_type": "code",
   "execution_count": 4,
   "id": "597c1d88-4190-4067-ae6a-3ab602162e11",
   "metadata": {},
   "outputs": [],
   "source": [
    "import warnings\n",
    "warnings.filterwarnings(\"ignore\")"
   ]
  },
  {
   "cell_type": "code",
   "execution_count": 5,
   "id": "c73884aa-4475-4ac5-a4f8-5448f5ad7680",
   "metadata": {},
   "outputs": [],
   "source": [
    "from functools import partial"
   ]
  },
  {
   "cell_type": "code",
   "execution_count": 6,
   "id": "ce0f8293-c27f-44fd-94f6-772b8b350246",
   "metadata": {},
   "outputs": [
    {
     "name": "stdout",
     "output_type": "stream",
     "text": [
      "Current Working Directory: /Users/zihansu/github/FinalProject-Group1/Employee- Salary- Analysis\n"
     ]
    }
   ],
   "source": [
    "import os\n",
    "print(\"Current Working Directory:\", os.getcwd())"
   ]
  },
  {
   "cell_type": "code",
   "execution_count": 10,
   "id": "4ef83634-2ad1-4560-bba2-56877eb031e4",
   "metadata": {},
   "outputs": [],
   "source": [
    "salaryDf= pd.read_csv(\"Employee.csv\")"
   ]
  },
  {
   "cell_type": "code",
   "execution_count": 11,
   "id": "d836d24f-4e16-426d-adb7-a2efb73b42b0",
   "metadata": {},
   "outputs": [
    {
     "name": "stdout",
     "output_type": "stream",
     "text": [
      "<class 'pandas.core.frame.DataFrame'>\n",
      "RangeIndex: 1470 entries, 0 to 1469\n",
      "Data columns (total 23 columns):\n",
      " #   Column                   Non-Null Count  Dtype \n",
      "---  ------                   --------------  ----- \n",
      " 0   EmployeeID               1470 non-null   object\n",
      " 1   FirstName                1470 non-null   object\n",
      " 2   LastName                 1470 non-null   object\n",
      " 3   Gender                   1470 non-null   object\n",
      " 4   Age                      1470 non-null   int64 \n",
      " 5   BusinessTravel           1470 non-null   object\n",
      " 6   Department               1470 non-null   object\n",
      " 7   DistanceFromHome (KM)    1470 non-null   int64 \n",
      " 8   State                    1470 non-null   object\n",
      " 9   Ethnicity                1470 non-null   object\n",
      " 10  Education                1470 non-null   int64 \n",
      " 11  EducationField           1470 non-null   object\n",
      " 12  JobRole                  1470 non-null   object\n",
      " 13  MaritalStatus            1470 non-null   object\n",
      " 14  Salary                   1470 non-null   int64 \n",
      " 15  StockOptionLevel         1470 non-null   int64 \n",
      " 16  OverTime                 1470 non-null   object\n",
      " 17  HireDate                 1470 non-null   object\n",
      " 18  Attrition                1470 non-null   object\n",
      " 19  YearsAtCompany           1470 non-null   int64 \n",
      " 20  YearsInMostRecentRole    1470 non-null   int64 \n",
      " 21  YearsSinceLastPromotion  1470 non-null   int64 \n",
      " 22  YearsWithCurrManager     1470 non-null   int64 \n",
      "dtypes: int64(9), object(14)\n",
      "memory usage: 264.3+ KB\n"
     ]
    }
   ],
   "source": [
    "salaryDf.info()"
   ]
  },
  {
   "cell_type": "code",
   "execution_count": 17,
   "id": "e9035ac7-547e-4804-ba1b-285dbddf1f01",
   "metadata": {},
   "outputs": [
    {
     "data": {
      "text/html": [
       "<div>\n",
       "<style scoped>\n",
       "    .dataframe tbody tr th:only-of-type {\n",
       "        vertical-align: middle;\n",
       "    }\n",
       "\n",
       "    .dataframe tbody tr th {\n",
       "        vertical-align: top;\n",
       "    }\n",
       "\n",
       "    .dataframe thead th {\n",
       "        text-align: right;\n",
       "    }\n",
       "</style>\n",
       "<table border=\"1\" class=\"dataframe\">\n",
       "  <thead>\n",
       "    <tr style=\"text-align: right;\">\n",
       "      <th></th>\n",
       "      <th>EmployeeID</th>\n",
       "      <th>FirstName</th>\n",
       "      <th>LastName</th>\n",
       "      <th>Gender</th>\n",
       "      <th>Age</th>\n",
       "      <th>BusinessTravel</th>\n",
       "      <th>Department</th>\n",
       "      <th>DistanceFromHome (KM)</th>\n",
       "      <th>State</th>\n",
       "      <th>Ethnicity</th>\n",
       "      <th>...</th>\n",
       "      <th>MaritalStatus</th>\n",
       "      <th>Salary</th>\n",
       "      <th>StockOptionLevel</th>\n",
       "      <th>OverTime</th>\n",
       "      <th>HireDate</th>\n",
       "      <th>Attrition</th>\n",
       "      <th>YearsAtCompany</th>\n",
       "      <th>YearsInMostRecentRole</th>\n",
       "      <th>YearsSinceLastPromotion</th>\n",
       "      <th>YearsWithCurrManager</th>\n",
       "    </tr>\n",
       "  </thead>\n",
       "  <tbody>\n",
       "    <tr>\n",
       "      <th>0</th>\n",
       "      <td>3012-1A41</td>\n",
       "      <td>Leonelle</td>\n",
       "      <td>Simco</td>\n",
       "      <td>Female</td>\n",
       "      <td>30</td>\n",
       "      <td>Some Travel</td>\n",
       "      <td>Sales</td>\n",
       "      <td>27</td>\n",
       "      <td>IL</td>\n",
       "      <td>White</td>\n",
       "      <td>...</td>\n",
       "      <td>Divorced</td>\n",
       "      <td>102059</td>\n",
       "      <td>1</td>\n",
       "      <td>No</td>\n",
       "      <td>2012-01-03</td>\n",
       "      <td>No</td>\n",
       "      <td>10</td>\n",
       "      <td>4</td>\n",
       "      <td>9</td>\n",
       "      <td>7</td>\n",
       "    </tr>\n",
       "    <tr>\n",
       "      <th>1</th>\n",
       "      <td>CBCB-9C9D</td>\n",
       "      <td>Leonerd</td>\n",
       "      <td>Aland</td>\n",
       "      <td>Male</td>\n",
       "      <td>38</td>\n",
       "      <td>Some Travel</td>\n",
       "      <td>Sales</td>\n",
       "      <td>23</td>\n",
       "      <td>CA</td>\n",
       "      <td>White</td>\n",
       "      <td>...</td>\n",
       "      <td>Single</td>\n",
       "      <td>157718</td>\n",
       "      <td>0</td>\n",
       "      <td>Yes</td>\n",
       "      <td>2012-01-04</td>\n",
       "      <td>No</td>\n",
       "      <td>10</td>\n",
       "      <td>6</td>\n",
       "      <td>10</td>\n",
       "      <td>0</td>\n",
       "    </tr>\n",
       "    <tr>\n",
       "      <th>2</th>\n",
       "      <td>95D7-1CE9</td>\n",
       "      <td>Ahmed</td>\n",
       "      <td>Sykes</td>\n",
       "      <td>Male</td>\n",
       "      <td>43</td>\n",
       "      <td>Some Travel</td>\n",
       "      <td>Human Resources</td>\n",
       "      <td>29</td>\n",
       "      <td>CA</td>\n",
       "      <td>Asian or Asian American</td>\n",
       "      <td>...</td>\n",
       "      <td>Married</td>\n",
       "      <td>309964</td>\n",
       "      <td>1</td>\n",
       "      <td>No</td>\n",
       "      <td>2012-01-04</td>\n",
       "      <td>No</td>\n",
       "      <td>10</td>\n",
       "      <td>6</td>\n",
       "      <td>10</td>\n",
       "      <td>8</td>\n",
       "    </tr>\n",
       "    <tr>\n",
       "      <th>3</th>\n",
       "      <td>47A0-559B</td>\n",
       "      <td>Ermentrude</td>\n",
       "      <td>Berrie</td>\n",
       "      <td>Non-Binary</td>\n",
       "      <td>39</td>\n",
       "      <td>Some Travel</td>\n",
       "      <td>Technology</td>\n",
       "      <td>12</td>\n",
       "      <td>IL</td>\n",
       "      <td>White</td>\n",
       "      <td>...</td>\n",
       "      <td>Married</td>\n",
       "      <td>293132</td>\n",
       "      <td>0</td>\n",
       "      <td>No</td>\n",
       "      <td>2012-01-05</td>\n",
       "      <td>No</td>\n",
       "      <td>10</td>\n",
       "      <td>10</td>\n",
       "      <td>10</td>\n",
       "      <td>0</td>\n",
       "    </tr>\n",
       "    <tr>\n",
       "      <th>4</th>\n",
       "      <td>42CC-040A</td>\n",
       "      <td>Stace</td>\n",
       "      <td>Savege</td>\n",
       "      <td>Female</td>\n",
       "      <td>29</td>\n",
       "      <td>Some Travel</td>\n",
       "      <td>Human Resources</td>\n",
       "      <td>29</td>\n",
       "      <td>CA</td>\n",
       "      <td>White</td>\n",
       "      <td>...</td>\n",
       "      <td>Single</td>\n",
       "      <td>49606</td>\n",
       "      <td>0</td>\n",
       "      <td>No</td>\n",
       "      <td>2012-01-05</td>\n",
       "      <td>Yes</td>\n",
       "      <td>6</td>\n",
       "      <td>1</td>\n",
       "      <td>1</td>\n",
       "      <td>6</td>\n",
       "    </tr>\n",
       "  </tbody>\n",
       "</table>\n",
       "<p>5 rows × 23 columns</p>\n",
       "</div>"
      ],
      "text/plain": [
       "  EmployeeID   FirstName LastName      Gender  Age BusinessTravel  \\\n",
       "0  3012-1A41    Leonelle    Simco      Female   30    Some Travel   \n",
       "1  CBCB-9C9D     Leonerd    Aland        Male   38    Some Travel   \n",
       "2  95D7-1CE9       Ahmed    Sykes        Male   43    Some Travel   \n",
       "3  47A0-559B  Ermentrude   Berrie  Non-Binary   39    Some Travel   \n",
       "4  42CC-040A       Stace   Savege      Female   29    Some Travel   \n",
       "\n",
       "        Department  DistanceFromHome (KM) State                Ethnicity  ...  \\\n",
       "0            Sales                     27    IL                    White  ...   \n",
       "1            Sales                     23    CA                    White  ...   \n",
       "2  Human Resources                     29    CA  Asian or Asian American  ...   \n",
       "3       Technology                     12    IL                    White  ...   \n",
       "4  Human Resources                     29    CA                    White  ...   \n",
       "\n",
       "   MaritalStatus  Salary StockOptionLevel OverTime    HireDate  Attrition  \\\n",
       "0       Divorced  102059                1       No  2012-01-03         No   \n",
       "1         Single  157718                0      Yes  2012-01-04         No   \n",
       "2        Married  309964                1       No  2012-01-04         No   \n",
       "3        Married  293132                0       No  2012-01-05         No   \n",
       "4         Single   49606                0       No  2012-01-05        Yes   \n",
       "\n",
       "  YearsAtCompany YearsInMostRecentRole YearsSinceLastPromotion  \\\n",
       "0             10                     4                       9   \n",
       "1             10                     6                      10   \n",
       "2             10                     6                      10   \n",
       "3             10                    10                      10   \n",
       "4              6                     1                       1   \n",
       "\n",
       "   YearsWithCurrManager  \n",
       "0                     7  \n",
       "1                     0  \n",
       "2                     8  \n",
       "3                     0  \n",
       "4                     6  \n",
       "\n",
       "[5 rows x 23 columns]"
      ]
     },
     "execution_count": 17,
     "metadata": {},
     "output_type": "execute_result"
    }
   ],
   "source": [
    "salaryDf.head()"
   ]
  },
  {
   "cell_type": "code",
   "execution_count": 16,
   "id": "9435dbf4-c005-48f3-8a09-d84af1c4fe6b",
   "metadata": {},
   "outputs": [
    {
     "ename": "KeyError",
     "evalue": "\"['EducationLevel', 'EnvironmentSatisfaction', 'TrainingOpportunitiesWithinYear', 'TrainingOpportunitiesTaken', 'SelfRating', 'ManagerRating'] not in index\"",
     "output_type": "error",
     "traceback": [
      "\u001b[31m---------------------------------------------------------------------------\u001b[39m",
      "\u001b[31mKeyError\u001b[39m                                  Traceback (most recent call last)",
      "\u001b[36mCell\u001b[39m\u001b[36m \u001b[39m\u001b[32mIn[16]\u001b[39m\u001b[32m, line 15\u001b[39m\n\u001b[32m      1\u001b[39m \u001b[38;5;66;03m# Select a minimal set of features that are most likely to influence Salary\u001b[39;00m\n\u001b[32m      2\u001b[39m columns_to_keep = [\n\u001b[32m      3\u001b[39m     \u001b[33m'\u001b[39m\u001b[33mSalary\u001b[39m\u001b[33m'\u001b[39m,\n\u001b[32m      4\u001b[39m     \u001b[33m'\u001b[39m\u001b[33mAge\u001b[39m\u001b[33m'\u001b[39m,\n\u001b[32m   (...)\u001b[39m\u001b[32m     12\u001b[39m     \u001b[33m'\u001b[39m\u001b[33mManagerRating\u001b[39m\u001b[33m'\u001b[39m\n\u001b[32m     13\u001b[39m ]\n\u001b[32m---> \u001b[39m\u001b[32m15\u001b[39m salaryDf_model = \u001b[43msalaryDf\u001b[49m\u001b[43m[\u001b[49m\u001b[43mcolumns_to_keep\u001b[49m\u001b[43m]\u001b[49m.copy()\n\u001b[32m     16\u001b[39m salaryDf_model.head()\n",
      "\u001b[36mFile \u001b[39m\u001b[32m~/github/live-class-codes/venv/lib/python3.13/site-packages/pandas/core/frame.py:4108\u001b[39m, in \u001b[36mDataFrame.__getitem__\u001b[39m\u001b[34m(self, key)\u001b[39m\n\u001b[32m   4106\u001b[39m     \u001b[38;5;28;01mif\u001b[39;00m is_iterator(key):\n\u001b[32m   4107\u001b[39m         key = \u001b[38;5;28mlist\u001b[39m(key)\n\u001b[32m-> \u001b[39m\u001b[32m4108\u001b[39m     indexer = \u001b[38;5;28;43mself\u001b[39;49m\u001b[43m.\u001b[49m\u001b[43mcolumns\u001b[49m\u001b[43m.\u001b[49m\u001b[43m_get_indexer_strict\u001b[49m\u001b[43m(\u001b[49m\u001b[43mkey\u001b[49m\u001b[43m,\u001b[49m\u001b[43m \u001b[49m\u001b[33;43m\"\u001b[39;49m\u001b[33;43mcolumns\u001b[39;49m\u001b[33;43m\"\u001b[39;49m\u001b[43m)\u001b[49m[\u001b[32m1\u001b[39m]\n\u001b[32m   4110\u001b[39m \u001b[38;5;66;03m# take() does not accept boolean indexers\u001b[39;00m\n\u001b[32m   4111\u001b[39m \u001b[38;5;28;01mif\u001b[39;00m \u001b[38;5;28mgetattr\u001b[39m(indexer, \u001b[33m\"\u001b[39m\u001b[33mdtype\u001b[39m\u001b[33m\"\u001b[39m, \u001b[38;5;28;01mNone\u001b[39;00m) == \u001b[38;5;28mbool\u001b[39m:\n",
      "\u001b[36mFile \u001b[39m\u001b[32m~/github/live-class-codes/venv/lib/python3.13/site-packages/pandas/core/indexes/base.py:6200\u001b[39m, in \u001b[36mIndex._get_indexer_strict\u001b[39m\u001b[34m(self, key, axis_name)\u001b[39m\n\u001b[32m   6197\u001b[39m \u001b[38;5;28;01melse\u001b[39;00m:\n\u001b[32m   6198\u001b[39m     keyarr, indexer, new_indexer = \u001b[38;5;28mself\u001b[39m._reindex_non_unique(keyarr)\n\u001b[32m-> \u001b[39m\u001b[32m6200\u001b[39m \u001b[38;5;28;43mself\u001b[39;49m\u001b[43m.\u001b[49m\u001b[43m_raise_if_missing\u001b[49m\u001b[43m(\u001b[49m\u001b[43mkeyarr\u001b[49m\u001b[43m,\u001b[49m\u001b[43m \u001b[49m\u001b[43mindexer\u001b[49m\u001b[43m,\u001b[49m\u001b[43m \u001b[49m\u001b[43maxis_name\u001b[49m\u001b[43m)\u001b[49m\n\u001b[32m   6202\u001b[39m keyarr = \u001b[38;5;28mself\u001b[39m.take(indexer)\n\u001b[32m   6203\u001b[39m \u001b[38;5;28;01mif\u001b[39;00m \u001b[38;5;28misinstance\u001b[39m(key, Index):\n\u001b[32m   6204\u001b[39m     \u001b[38;5;66;03m# GH 42790 - Preserve name from an Index\u001b[39;00m\n",
      "\u001b[36mFile \u001b[39m\u001b[32m~/github/live-class-codes/venv/lib/python3.13/site-packages/pandas/core/indexes/base.py:6252\u001b[39m, in \u001b[36mIndex._raise_if_missing\u001b[39m\u001b[34m(self, key, indexer, axis_name)\u001b[39m\n\u001b[32m   6249\u001b[39m     \u001b[38;5;28;01mraise\u001b[39;00m \u001b[38;5;167;01mKeyError\u001b[39;00m(\u001b[33mf\u001b[39m\u001b[33m\"\u001b[39m\u001b[33mNone of [\u001b[39m\u001b[38;5;132;01m{\u001b[39;00mkey\u001b[38;5;132;01m}\u001b[39;00m\u001b[33m] are in the [\u001b[39m\u001b[38;5;132;01m{\u001b[39;00maxis_name\u001b[38;5;132;01m}\u001b[39;00m\u001b[33m]\u001b[39m\u001b[33m\"\u001b[39m)\n\u001b[32m   6251\u001b[39m not_found = \u001b[38;5;28mlist\u001b[39m(ensure_index(key)[missing_mask.nonzero()[\u001b[32m0\u001b[39m]].unique())\n\u001b[32m-> \u001b[39m\u001b[32m6252\u001b[39m \u001b[38;5;28;01mraise\u001b[39;00m \u001b[38;5;167;01mKeyError\u001b[39;00m(\u001b[33mf\u001b[39m\u001b[33m\"\u001b[39m\u001b[38;5;132;01m{\u001b[39;00mnot_found\u001b[38;5;132;01m}\u001b[39;00m\u001b[33m not in index\u001b[39m\u001b[33m\"\u001b[39m)\n",
      "\u001b[31mKeyError\u001b[39m: \"['EducationLevel', 'EnvironmentSatisfaction', 'TrainingOpportunitiesWithinYear', 'TrainingOpportunitiesTaken', 'SelfRating', 'ManagerRating'] not in index\""
     ]
    }
   ],
   "source": [
    "# Select a minimal set of features that are most likely to influence Salary\n",
    "columns_to_keep = [\n",
    "    'Salary',\n",
    "    'Age',\n",
    "    'StockOptionLevel',\n",
    "    'YearsAtCompany',\n",
    "    'EducationLevel',\n",
    "    'EnvironmentSatisfaction',\n",
    "    'TrainingOpportunitiesWithinYear',\n",
    "    'TrainingOpportunitiesTaken',\n",
    "    'SelfRating',\n",
    "    'ManagerRating'\n",
    "]\n",
    "\n",
    "salaryDf_model = salaryDf[columns_to_keep].copy()\n",
    "salaryDf_model.head()"
   ]
  },
  {
   "cell_type": "code",
   "execution_count": 14,
   "id": "7f5fd5b5-b8a8-461f-adac-26e72e94899f",
   "metadata": {},
   "outputs": [],
   "source": [
    "education_mapping = {\n",
    "    \"No Formal Qualifications\": 1,\n",
    "    \"High School\": 2,\n",
    "    \"Bachelors\": 3,\n",
    "    \"Masters\": 4,\n",
    "    \"Doctorate\": 5\n",
    "}"
   ]
  },
  {
   "cell_type": "code",
   "execution_count": 15,
   "id": "3b66d2bd-b775-46a3-968c-f9c2db3ccbfc",
   "metadata": {},
   "outputs": [
    {
     "ename": "NameError",
     "evalue": "name 'salaryDf_model' is not defined",
     "output_type": "error",
     "traceback": [
      "\u001b[31m---------------------------------------------------------------------------\u001b[39m",
      "\u001b[31mNameError\u001b[39m                                 Traceback (most recent call last)",
      "\u001b[36mCell\u001b[39m\u001b[36m \u001b[39m\u001b[32mIn[15]\u001b[39m\u001b[32m, line 1\u001b[39m\n\u001b[32m----> \u001b[39m\u001b[32m1\u001b[39m salaryDf_model[\u001b[33m\"\u001b[39m\u001b[33mEducationLevel\u001b[39m\u001b[33m\"\u001b[39m] = \u001b[43msalaryDf_model\u001b[49m[\u001b[33m\"\u001b[39m\u001b[33mEducationLevel\u001b[39m\u001b[33m\"\u001b[39m].replace(education_mapping)\n\u001b[32m      2\u001b[39m salaryDf_model\n",
      "\u001b[31mNameError\u001b[39m: name 'salaryDf_model' is not defined"
     ]
    }
   ],
   "source": [
    "salaryDf_model[\"EducationLevel\"] = salaryDf_model[\"EducationLevel\"].replace(education_mapping)\n",
    "salaryDf_model"
   ]
  },
  {
   "cell_type": "code",
   "execution_count": 45,
   "id": "6a33d3d9-e74c-408c-8abd-f874d808c224",
   "metadata": {},
   "outputs": [],
   "source": [
    "# Save the selected feature DataFrame to a new CSV file\n",
    "salaryDf_model.to_csv(\"../salary_cleaned.csv\", index=False)"
   ]
  },
  {
   "cell_type": "code",
   "execution_count": null,
   "id": "3e7e3013-2fd6-4d4f-b1d0-de2b999a5d64",
   "metadata": {},
   "outputs": [],
   "source": []
  }
 ],
 "metadata": {
  "kernelspec": {
   "display_name": "Python 3 (ipykernel)",
   "language": "python",
   "name": "python3"
  },
  "language_info": {
   "codemirror_mode": {
    "name": "ipython",
    "version": 3
   },
   "file_extension": ".py",
   "mimetype": "text/x-python",
   "name": "python",
   "nbconvert_exporter": "python",
   "pygments_lexer": "ipython3",
   "version": "3.13.4"
  }
 },
 "nbformat": 4,
 "nbformat_minor": 5
}
